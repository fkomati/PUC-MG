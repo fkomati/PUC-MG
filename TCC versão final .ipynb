{
 "cells": [
  {
   "cell_type": "markdown",
   "id": "6d0bb269",
   "metadata": {},
   "source": [
    "# PUC Minas\n",
    "## Pós Graduação em Ciência de Dados e Big Data (2022-2023)\n",
    "## Trabalho de Conclusão de Curso\n",
    "## Aluno: Frank Tetsuya Komati\n",
    "### Este notebook é relativo ao meu Trabalho de Conclusão de Curso em Ciência de Dados e Big Data. O título é ANÁLISE E PREVISÃO DE SÉRIES TEMPORAIS DE DADOS DE EXPORTAÇÃO DE MINÉRIO DE FERRO PELO ESPÍRITO SANTO, neste trabalho o dataset foi baixado no site dados.gov.br."
   ]
  },
  {
   "cell_type": "code",
   "execution_count": 1,
   "id": "db79f901",
   "metadata": {},
   "outputs": [],
   "source": [
    "# Carregamento das bibliotecas para tratamento das informações\n",
    "\n",
    "from datetime import datetime\n",
    "from statsmodels.tsa.statespace.sarimax import SARIMAX\n",
    "from statsmodels.tsa.seasonal import seasonal_decompose\n",
    "from statsmodels.tsa.stattools import adfuller\n",
    "from prophet import Prophet\n",
    "import statsmodels.api as sm\n",
    "import pmdarima as pmd\n",
    "import matplotlib.pyplot as plt \n",
    "import pandas as pd\n",
    "import numpy as np\n",
    "import csv\n",
    "import datetime\n"
   ]
  },
  {
   "cell_type": "code",
   "execution_count": 2,
   "id": "1a5919cc",
   "metadata": {
    "scrolled": true
   },
   "outputs": [],
   "source": [
    "# Carregamento das bases de dados\n",
    "\n",
    "exportacao22 = pd.read_csv(r'D:\\OneDrive\\Desktop\\Python\\TCC\\EXP_2022.csv')\n",
    "exportacao21 = pd.read_csv(r'D:\\OneDrive\\Desktop\\Python\\TCC\\EXP_2021.csv', delimiter=';')\n",
    "exportacao20 = pd.read_csv(r'D:\\OneDrive\\Desktop\\Python\\TCC\\EXP_2020.csv', delimiter=';')\n",
    "exportacao19 = pd.read_csv(r'D:\\OneDrive\\Desktop\\Python\\TCC\\EXP_2019.csv', delimiter=';')\n",
    "exportacao18 = pd.read_csv(r'D:\\OneDrive\\Desktop\\Python\\TCC\\EXP_2018.csv', delimiter=';')\n",
    "\n"
   ]
  },
  {
   "cell_type": "code",
   "execution_count": 3,
   "id": "045c62e8",
   "metadata": {},
   "outputs": [
    {
     "name": "stdout",
     "output_type": "stream",
     "text": [
      "CO_ANO         int64\n",
      "CO_MES         int64\n",
      "CO_NCM         int64\n",
      "CO_UNID        int64\n",
      "CO_PAIS        int64\n",
      "SG_UF_NCM     object\n",
      "CO_VIA         int64\n",
      "CO_URF         int64\n",
      "QT_ESTAT       int64\n",
      "KG_LIQUIDO     int64\n",
      "VL_FOB         int64\n",
      "dtype: object\n"
     ]
    }
   ],
   "source": [
    "# Exibindo os cabeçalhos\n",
    "\n",
    "print(exportacao22.dtypes)"
   ]
  },
  {
   "cell_type": "code",
   "execution_count": 4,
   "id": "8d97bb92",
   "metadata": {},
   "outputs": [
    {
     "data": {
      "text/html": [
       "<div>\n",
       "<style scoped>\n",
       "    .dataframe tbody tr th:only-of-type {\n",
       "        vertical-align: middle;\n",
       "    }\n",
       "\n",
       "    .dataframe tbody tr th {\n",
       "        vertical-align: top;\n",
       "    }\n",
       "\n",
       "    .dataframe thead th {\n",
       "        text-align: right;\n",
       "    }\n",
       "</style>\n",
       "<table border=\"1\" class=\"dataframe\">\n",
       "  <thead>\n",
       "    <tr style=\"text-align: right;\">\n",
       "      <th></th>\n",
       "      <th>CO_ANO</th>\n",
       "      <th>CO_MES</th>\n",
       "      <th>CO_NCM</th>\n",
       "      <th>CO_UNID</th>\n",
       "      <th>CO_PAIS</th>\n",
       "      <th>CO_VIA</th>\n",
       "      <th>CO_URF</th>\n",
       "      <th>QT_ESTAT</th>\n",
       "      <th>KG_LIQUIDO</th>\n",
       "      <th>VL_FOB</th>\n",
       "    </tr>\n",
       "  </thead>\n",
       "  <tbody>\n",
       "    <tr>\n",
       "      <th>count</th>\n",
       "      <td>1246126.0</td>\n",
       "      <td>1.246126e+06</td>\n",
       "      <td>1.246126e+06</td>\n",
       "      <td>1.246126e+06</td>\n",
       "      <td>1.246126e+06</td>\n",
       "      <td>1.246126e+06</td>\n",
       "      <td>1.246126e+06</td>\n",
       "      <td>1.246126e+06</td>\n",
       "      <td>1.246126e+06</td>\n",
       "      <td>1.246126e+06</td>\n",
       "    </tr>\n",
       "    <tr>\n",
       "      <th>mean</th>\n",
       "      <td>2022.0</td>\n",
       "      <td>5.603824e+00</td>\n",
       "      <td>5.205261e+07</td>\n",
       "      <td>1.068043e+01</td>\n",
       "      <td>3.818627e+02</td>\n",
       "      <td>3.122577e+00</td>\n",
       "      <td>7.979867e+05</td>\n",
       "      <td>3.536106e+05</td>\n",
       "      <td>4.950924e+05</td>\n",
       "      <td>2.252222e+05</td>\n",
       "    </tr>\n",
       "    <tr>\n",
       "      <th>std</th>\n",
       "      <td>0.0</td>\n",
       "      <td>2.834478e+00</td>\n",
       "      <td>3.113172e+07</td>\n",
       "      <td>1.697152e+00</td>\n",
       "      <td>2.402686e+02</td>\n",
       "      <td>2.654398e+00</td>\n",
       "      <td>3.211893e+05</td>\n",
       "      <td>3.455706e+07</td>\n",
       "      <td>4.102165e+07</td>\n",
       "      <td>5.095228e+06</td>\n",
       "    </tr>\n",
       "    <tr>\n",
       "      <th>min</th>\n",
       "      <td>2022.0</td>\n",
       "      <td>1.000000e+00</td>\n",
       "      <td>1.012100e+06</td>\n",
       "      <td>1.000000e+01</td>\n",
       "      <td>1.300000e+01</td>\n",
       "      <td>0.000000e+00</td>\n",
       "      <td>1.176000e+05</td>\n",
       "      <td>0.000000e+00</td>\n",
       "      <td>0.000000e+00</td>\n",
       "      <td>0.000000e+00</td>\n",
       "    </tr>\n",
       "    <tr>\n",
       "      <th>25%</th>\n",
       "      <td>2022.0</td>\n",
       "      <td>3.000000e+00</td>\n",
       "      <td>2.106100e+07</td>\n",
       "      <td>1.000000e+01</td>\n",
       "      <td>1.630000e+02</td>\n",
       "      <td>1.000000e+00</td>\n",
       "      <td>8.176000e+05</td>\n",
       "      <td>5.000000e+00</td>\n",
       "      <td>5.000000e+00</td>\n",
       "      <td>9.200000e+01</td>\n",
       "    </tr>\n",
       "    <tr>\n",
       "      <th>50%</th>\n",
       "      <td>2022.0</td>\n",
       "      <td>6.000000e+00</td>\n",
       "      <td>5.806310e+07</td>\n",
       "      <td>1.000000e+01</td>\n",
       "      <td>3.510000e+02</td>\n",
       "      <td>1.000000e+00</td>\n",
       "      <td>8.178000e+05</td>\n",
       "      <td>3.600000e+01</td>\n",
       "      <td>4.200000e+01</td>\n",
       "      <td>8.670000e+02</td>\n",
       "    </tr>\n",
       "    <tr>\n",
       "      <th>75%</th>\n",
       "      <td>2022.0</td>\n",
       "      <td>8.000000e+00</td>\n",
       "      <td>8.432900e+07</td>\n",
       "      <td>1.100000e+01</td>\n",
       "      <td>5.860000e+02</td>\n",
       "      <td>4.000000e+00</td>\n",
       "      <td>9.178000e+05</td>\n",
       "      <td>6.580000e+02</td>\n",
       "      <td>1.090000e+03</td>\n",
       "      <td>1.334100e+04</td>\n",
       "    </tr>\n",
       "    <tr>\n",
       "      <th>max</th>\n",
       "      <td>2022.0</td>\n",
       "      <td>1.000000e+01</td>\n",
       "      <td>9.706900e+07</td>\n",
       "      <td>2.200000e+01</td>\n",
       "      <td>8.900000e+02</td>\n",
       "      <td>1.500000e+01</td>\n",
       "      <td>9.999999e+06</td>\n",
       "      <td>1.391698e+10</td>\n",
       "      <td>2.403087e+10</td>\n",
       "      <td>1.100695e+09</td>\n",
       "    </tr>\n",
       "  </tbody>\n",
       "</table>\n",
       "</div>"
      ],
      "text/plain": [
       "          CO_ANO        CO_MES        CO_NCM       CO_UNID       CO_PAIS  \\\n",
       "count  1246126.0  1.246126e+06  1.246126e+06  1.246126e+06  1.246126e+06   \n",
       "mean      2022.0  5.603824e+00  5.205261e+07  1.068043e+01  3.818627e+02   \n",
       "std          0.0  2.834478e+00  3.113172e+07  1.697152e+00  2.402686e+02   \n",
       "min       2022.0  1.000000e+00  1.012100e+06  1.000000e+01  1.300000e+01   \n",
       "25%       2022.0  3.000000e+00  2.106100e+07  1.000000e+01  1.630000e+02   \n",
       "50%       2022.0  6.000000e+00  5.806310e+07  1.000000e+01  3.510000e+02   \n",
       "75%       2022.0  8.000000e+00  8.432900e+07  1.100000e+01  5.860000e+02   \n",
       "max       2022.0  1.000000e+01  9.706900e+07  2.200000e+01  8.900000e+02   \n",
       "\n",
       "             CO_VIA        CO_URF      QT_ESTAT    KG_LIQUIDO        VL_FOB  \n",
       "count  1.246126e+06  1.246126e+06  1.246126e+06  1.246126e+06  1.246126e+06  \n",
       "mean   3.122577e+00  7.979867e+05  3.536106e+05  4.950924e+05  2.252222e+05  \n",
       "std    2.654398e+00  3.211893e+05  3.455706e+07  4.102165e+07  5.095228e+06  \n",
       "min    0.000000e+00  1.176000e+05  0.000000e+00  0.000000e+00  0.000000e+00  \n",
       "25%    1.000000e+00  8.176000e+05  5.000000e+00  5.000000e+00  9.200000e+01  \n",
       "50%    1.000000e+00  8.178000e+05  3.600000e+01  4.200000e+01  8.670000e+02  \n",
       "75%    4.000000e+00  9.178000e+05  6.580000e+02  1.090000e+03  1.334100e+04  \n",
       "max    1.500000e+01  9.999999e+06  1.391698e+10  2.403087e+10  1.100695e+09  "
      ]
     },
     "execution_count": 4,
     "metadata": {},
     "output_type": "execute_result"
    }
   ],
   "source": [
    "exportacao22.describe()"
   ]
  },
  {
   "cell_type": "code",
   "execution_count": 5,
   "id": "2f4a83fb",
   "metadata": {},
   "outputs": [
    {
     "data": {
      "text/html": [
       "<div>\n",
       "<style scoped>\n",
       "    .dataframe tbody tr th:only-of-type {\n",
       "        vertical-align: middle;\n",
       "    }\n",
       "\n",
       "    .dataframe tbody tr th {\n",
       "        vertical-align: top;\n",
       "    }\n",
       "\n",
       "    .dataframe thead th {\n",
       "        text-align: right;\n",
       "    }\n",
       "</style>\n",
       "<table border=\"1\" class=\"dataframe\">\n",
       "  <thead>\n",
       "    <tr style=\"text-align: right;\">\n",
       "      <th></th>\n",
       "      <th>CO_ANO</th>\n",
       "      <th>CO_MES</th>\n",
       "      <th>CO_NCM</th>\n",
       "      <th>CO_UNID</th>\n",
       "      <th>CO_PAIS</th>\n",
       "      <th>SG_UF_NCM</th>\n",
       "      <th>CO_VIA</th>\n",
       "      <th>CO_URF</th>\n",
       "      <th>QT_ESTAT</th>\n",
       "      <th>KG_LIQUIDO</th>\n",
       "      <th>VL_FOB</th>\n",
       "    </tr>\n",
       "  </thead>\n",
       "  <tbody>\n",
       "    <tr>\n",
       "      <th>0</th>\n",
       "      <td>2018</td>\n",
       "      <td>1</td>\n",
       "      <td>39162000</td>\n",
       "      <td>10</td>\n",
       "      <td>756</td>\n",
       "      <td>RS</td>\n",
       "      <td>1</td>\n",
       "      <td>1017700</td>\n",
       "      <td>61</td>\n",
       "      <td>61</td>\n",
       "      <td>803</td>\n",
       "    </tr>\n",
       "    <tr>\n",
       "      <th>1</th>\n",
       "      <td>2018</td>\n",
       "      <td>1</td>\n",
       "      <td>84835090</td>\n",
       "      <td>11</td>\n",
       "      <td>399</td>\n",
       "      <td>SP</td>\n",
       "      <td>4</td>\n",
       "      <td>817600</td>\n",
       "      <td>16</td>\n",
       "      <td>2</td>\n",
       "      <td>138</td>\n",
       "    </tr>\n",
       "    <tr>\n",
       "      <th>2</th>\n",
       "      <td>2018</td>\n",
       "      <td>1</td>\n",
       "      <td>87019490</td>\n",
       "      <td>11</td>\n",
       "      <td>158</td>\n",
       "      <td>PR</td>\n",
       "      <td>7</td>\n",
       "      <td>1017500</td>\n",
       "      <td>3</td>\n",
       "      <td>16410</td>\n",
       "      <td>98940</td>\n",
       "    </tr>\n",
       "    <tr>\n",
       "      <th>3</th>\n",
       "      <td>2018</td>\n",
       "      <td>1</td>\n",
       "      <td>73209000</td>\n",
       "      <td>10</td>\n",
       "      <td>589</td>\n",
       "      <td>SP</td>\n",
       "      <td>4</td>\n",
       "      <td>817600</td>\n",
       "      <td>10003</td>\n",
       "      <td>6</td>\n",
       "      <td>916</td>\n",
       "    </tr>\n",
       "    <tr>\n",
       "      <th>4</th>\n",
       "      <td>2018</td>\n",
       "      <td>1</td>\n",
       "      <td>25070010</td>\n",
       "      <td>10</td>\n",
       "      <td>386</td>\n",
       "      <td>CE</td>\n",
       "      <td>4</td>\n",
       "      <td>317901</td>\n",
       "      <td>10</td>\n",
       "      <td>10</td>\n",
       "      <td>10</td>\n",
       "    </tr>\n",
       "  </tbody>\n",
       "</table>\n",
       "</div>"
      ],
      "text/plain": [
       "   CO_ANO  CO_MES    CO_NCM  CO_UNID  CO_PAIS SG_UF_NCM  CO_VIA   CO_URF  \\\n",
       "0    2018       1  39162000       10      756        RS       1  1017700   \n",
       "1    2018       1  84835090       11      399        SP       4   817600   \n",
       "2    2018       1  87019490       11      158        PR       7  1017500   \n",
       "3    2018       1  73209000       10      589        SP       4   817600   \n",
       "4    2018       1  25070010       10      386        CE       4   317901   \n",
       "\n",
       "   QT_ESTAT  KG_LIQUIDO  VL_FOB  \n",
       "0        61          61     803  \n",
       "1        16           2     138  \n",
       "2         3       16410   98940  \n",
       "3     10003           6     916  \n",
       "4        10          10      10  "
      ]
     },
     "execution_count": 5,
     "metadata": {},
     "output_type": "execute_result"
    }
   ],
   "source": [
    "exportacao18.head()"
   ]
  },
  {
   "cell_type": "code",
   "execution_count": 6,
   "id": "a5e30512",
   "metadata": {},
   "outputs": [],
   "source": [
    "# Criando uma lista com as informações importadas\n",
    "\n",
    "lista_exportacao = [exportacao22, exportacao21, exportacao20, exportacao19, exportacao18]"
   ]
  },
  {
   "cell_type": "code",
   "execution_count": 7,
   "id": "0c8c0435",
   "metadata": {},
   "outputs": [],
   "source": [
    "# Concatenando as informações em um dataframe\n",
    "\n",
    "exportacao = pd.concat(lista_exportacao)\n"
   ]
  },
  {
   "cell_type": "code",
   "execution_count": 8,
   "id": "6b4b8c08",
   "metadata": {},
   "outputs": [
    {
     "name": "stdout",
     "output_type": "stream",
     "text": [
      "         CO_ANO  CO_MES    CO_NCM  CO_UNID  CO_PAIS SG_UF_NCM  CO_VIA  \\\n",
      "0          2022      10  30049069       10      493        SP       1   \n",
      "1          2022       5  11029000       10       77        SC       1   \n",
      "2          2022       9  87085099       10       63        RS       7   \n",
      "3          2022       1  84141000       11      158        RS       7   \n",
      "4          2022       5  33061000       10      607        ES       1   \n",
      "...         ...     ...       ...      ...      ...       ...     ...   \n",
      "1128976    2018      12  90318030       11      249        SP       4   \n",
      "1128977    2018      12  38099190       10      573        SP       1   \n",
      "1128978    2018      12  84819090       10      158        RJ       7   \n",
      "1128979    2018      12  84329000       10      386        SP       1   \n",
      "1128980    2018      12  33042090       10      351        PR       4   \n",
      "\n",
      "          CO_URF  QT_ESTAT  KG_LIQUIDO  VL_FOB  \n",
      "0         817800     18768       18768  140235  \n",
      "1         927700         6           6      16  \n",
      "2        1017500     35618       35619  140372  \n",
      "3        1017500         4           1      25  \n",
      "4         727600         6           6      86  \n",
      "...          ...       ...         ...     ...  \n",
      "1128976   817700         2           0    1431  \n",
      "1128977   817800     18779       18779   10220  \n",
      "1128978  1017500        10          18    1666  \n",
      "1128979   817800       231         231    1102  \n",
      "1128980   917900         0           0       6  \n",
      "\n",
      "[6593132 rows x 11 columns]\n"
     ]
    }
   ],
   "source": [
    "print(exportacao)"
   ]
  },
  {
   "cell_type": "code",
   "execution_count": 9,
   "id": "38a8caae",
   "metadata": {},
   "outputs": [],
   "source": [
    "# Carregamento das tabelas auxiliares - Paises\n",
    "\n",
    "paises = pd.read_csv('D:\\OneDrive\\Desktop\\Python\\TCC\\Paises.csv', sep=\";\", encoding = 'utf-8')"
   ]
  },
  {
   "cell_type": "code",
   "execution_count": 10,
   "id": "2c3a0394",
   "metadata": {},
   "outputs": [],
   "source": [
    "# Carregamento das tabelas auxiliares - NCM\n",
    "\n",
    "NCM = pd.read_csv(r'D:\\OneDrive\\Desktop\\Python\\TCC\\NCM.csv', sep=\";\", encoding = 'utf-8')"
   ]
  },
  {
   "cell_type": "code",
   "execution_count": 11,
   "id": "c296168a",
   "metadata": {},
   "outputs": [],
   "source": [
    "# Carregamento das tabelas auxiliares - Via\n",
    "\n",
    "via = pd.read_csv(r'D:\\OneDrive\\Desktop\\Python\\TCC\\via.csv', sep=\";\", encoding = 'utf-8')"
   ]
  },
  {
   "cell_type": "code",
   "execution_count": 12,
   "id": "d872d95d",
   "metadata": {},
   "outputs": [
    {
     "name": "stdout",
     "output_type": "stream",
     "text": [
      "     CO_PAIS  CO_PAIS_ISON3 CO_PAIS_ISOA3                      NO_PAIS  \\\n",
      "0          0            898           ZZZ                 Não Definido   \n",
      "1         13              4           AFG                  Afeganistão   \n",
      "2         15            248           ALA                 Aland, Ilhas   \n",
      "3         17              8           ALB                      Albânia   \n",
      "4         20            724           ESP       Alboran-Perejil, Ilhas   \n",
      "..       ...            ...           ...                          ...   \n",
      "276      994            898           ZZZ                   A Designar   \n",
      "277      995            898           ZZZ              Bancos Centrais   \n",
      "278      997            898           ZZZ  Organizações Internacionais   \n",
      "279      998            898           ZZZ               Sem informação   \n",
      "280      999            898           ZZZ               Não Declarados   \n",
      "\n",
      "                     NO_PAIS_ING                     NO_PAIS_ESP  \n",
      "0                    Not defined                     No definido  \n",
      "1                    Afghanistan                      Afganistan  \n",
      "2                  Aland Islands                    Alans, Islas  \n",
      "3                        Albania                         Albania  \n",
      "4       Alboran-Perejil, Islands          Alboran-Perejil, Islas  \n",
      "..                           ...                             ...  \n",
      "276                    To define                      A designar  \n",
      "277                Central Banks                Bancos Centrales  \n",
      "278  International Organizations  Organizaciones Internacionales  \n",
      "279               Sem informação                  Sem informação  \n",
      "280                 Not declared                   No declarados  \n",
      "\n",
      "[281 rows x 6 columns]\n"
     ]
    }
   ],
   "source": [
    "print(paises)"
   ]
  },
  {
   "cell_type": "code",
   "execution_count": 13,
   "id": "8e27c93b",
   "metadata": {},
   "outputs": [
    {
     "name": "stdout",
     "output_type": "stream",
     "text": [
      "         CO_NCM                                         NO_NCM_POR  CO_PPE  \\\n",
      "0       1011010                  Cavalos reprodutores de raça pura    1990   \n",
      "1       1011090  Animais da espécie asinina/muar, reprodutores,...    1990   \n",
      "2       1011100                 Cavalos reprodutores, de raça pura    1990   \n",
      "3       1011900                              Outros cavalos, vivos    1990   \n",
      "4       1012000                            Asininos e muares vivos    1990   \n",
      "...         ...                                                ...     ...   \n",
      "13315  99997103            Joalheria de ouro do capitulo 71 da NCM    4020   \n",
      "13316  99997104               Outros artigos do capitulo 71 da NCM    4020   \n",
      "13317  99999900    Qualquer outra mercadoria sem cobertura cambial    4010   \n",
      "13318  99999951      Devolução antes da DI (exportação definitiva)    6010   \n",
      "13319  99999960                                       Reexportação    6010   \n",
      "\n",
      "                                                  NO_PPE  \\\n",
      "0                                DEMAIS PRODUTOS BASICOS   \n",
      "1                                DEMAIS PRODUTOS BASICOS   \n",
      "2                                DEMAIS PRODUTOS BASICOS   \n",
      "3                                DEMAIS PRODUTOS BASICOS   \n",
      "4                                DEMAIS PRODUTOS BASICOS   \n",
      "...                                                  ...   \n",
      "13315  TRANSACOES ESPECIAIS - PEDRAS EM BRUTO DO CAP....   \n",
      "13316  TRANSACOES ESPECIAIS - PEDRAS EM BRUTO DO CAP....   \n",
      "13317                      TRANSACOES ESPECIAIS - DEMAIS   \n",
      "13318                                       REEXPORTACAO   \n",
      "13319                                       REEXPORTACAO   \n",
      "\n",
      "                                              NO_PPE_MIN  \\\n",
      "0                                Demais produtos básicos   \n",
      "1                                Demais produtos básicos   \n",
      "2                                Demais produtos básicos   \n",
      "3                                Demais produtos básicos   \n",
      "4                                Demais produtos básicos   \n",
      "...                                                  ...   \n",
      "13315  Transações especiais - pedras em bruto do cap....   \n",
      "13316  Transações especiais - pedras em bruto do cap....   \n",
      "13317                      Transações especiais - demais   \n",
      "13318                                       Reexportação   \n",
      "13319                                       Reexportação   \n",
      "\n",
      "                                              NO_PPE_ING  \n",
      "0                                      OTHER BASIC GOODS  \n",
      "1                                      OTHER BASIC GOODS  \n",
      "2                                      OTHER BASIC GOODS  \n",
      "3                                      OTHER BASIC GOODS  \n",
      "4                                      OTHER BASIC GOODS  \n",
      "...                                                  ...  \n",
      "13315  SPECIAL TRANSACTIONS - CRUDE STONES OF CAP.71 ...  \n",
      "13316  SPECIAL TRANSACTIONS - CRUDE STONES OF CAP.71 ...  \n",
      "13317                       SPECIAL TRANSACTIONS - OTHER  \n",
      "13318                                           REEXPORT  \n",
      "13319                                           REEXPORT  \n",
      "\n",
      "[13320 rows x 6 columns]\n"
     ]
    }
   ],
   "source": [
    "print(NCM)"
   ]
  },
  {
   "cell_type": "code",
   "execution_count": 14,
   "id": "c5fd3e11",
   "metadata": {},
   "outputs": [
    {
     "name": "stdout",
     "output_type": "stream",
     "text": [
      "    CO_VIA                       NO_VIA\n",
      "0       99             VIA DESCONHECIDA\n",
      "1       13                  POR REBOQUE\n",
      "2       11                      COURIER\n",
      "3       15          VICINAL FRONTEIRICO\n",
      "4       14                        DUTOS\n",
      "5       12                      EM MAOS\n",
      "6        0            VIA NAO DECLARADA\n",
      "7        1                     MARITIMA\n",
      "8        2                      FLUVIAL\n",
      "9        3                     LACUSTRE\n",
      "10       4                        AEREA\n",
      "11       5                       POSTAL\n",
      "12       6                  FERROVIARIA\n",
      "13       7                   RODOVIARIA\n",
      "14       8  CONDUTO/REDE DE TRANSMISSAO\n",
      "15       9               MEIOS PROPRIOS\n",
      "16      10          ENTRADA/SAIDA FICTA\n"
     ]
    }
   ],
   "source": [
    "print(via)"
   ]
  },
  {
   "cell_type": "code",
   "execution_count": 15,
   "id": "14ad58aa",
   "metadata": {},
   "outputs": [],
   "source": [
    "# Criando um merge da tabela principal com a tabela auxiliar - NCM\n",
    "\n",
    "exportacao = pd.merge(exportacao, NCM, how='left', on='CO_NCM')"
   ]
  },
  {
   "cell_type": "code",
   "execution_count": 16,
   "id": "a7ca4ecc",
   "metadata": {},
   "outputs": [
    {
     "name": "stdout",
     "output_type": "stream",
     "text": [
      "         CO_ANO  CO_MES    CO_NCM  CO_UNID  CO_PAIS SG_UF_NCM  CO_VIA  \\\n",
      "0          2022      10  30049069       10      493        SP       1   \n",
      "1          2022       5  11029000       10       77        SC       1   \n",
      "2          2022       9  87085099       10       63        RS       7   \n",
      "3          2022       1  84141000       11      158        RS       7   \n",
      "4          2022       5  33061000       10      607        ES       1   \n",
      "...         ...     ...       ...      ...      ...       ...     ...   \n",
      "6593127    2018      12  90318030       11      249        SP       4   \n",
      "6593128    2018      12  38099190       10      573        SP       1   \n",
      "6593129    2018      12  84819090       10      158        RJ       7   \n",
      "6593130    2018      12  84329000       10      386        SP       1   \n",
      "6593131    2018      12  33042090       10      351        PR       4   \n",
      "\n",
      "          CO_URF  QT_ESTAT  KG_LIQUIDO  VL_FOB  \\\n",
      "0         817800     18768       18768  140235   \n",
      "1         927700         6           6      16   \n",
      "2        1017500     35618       35619  140372   \n",
      "3        1017500         4           1      25   \n",
      "4         727600         6           6      86   \n",
      "...          ...       ...         ...     ...   \n",
      "6593127   817700         2           0    1431   \n",
      "6593128   817800     18779       18779   10220   \n",
      "6593129  1017500        10          18    1666   \n",
      "6593130   817800       231         231    1102   \n",
      "6593131   917900         0           0       6   \n",
      "\n",
      "                                                NO_NCM_POR  CO_PPE  \\\n",
      "0        Outros medicamentos contendo compostos heteroc...  3338.0   \n",
      "1                                Farinha de outros cereais  3990.0   \n",
      "2          Outros eixos e partes, para veículos automóveis  3450.0   \n",
      "3                                          Bombas de vácuo  3060.0   \n",
      "4                                             Dentifrícios  3681.0   \n",
      "...                                                    ...     ...   \n",
      "6593127                                     Metros padrões  3715.0   \n",
      "6593128  Outros agentes de apresto/acabamento, etc, par...  3990.0   \n",
      "6593129  Partes de torneiras, outros dispositivos para ...  3857.0   \n",
      "6593130  Partes de máquinas e aparelhos de uso agrícola...  3139.0   \n",
      "6593131         Outros produtos de maquiagem para os olhos  3681.0   \n",
      "\n",
      "                                                    NO_PPE  \\\n",
      "0          MEDICAMENTOS PARA MEDICINA HUMANA E VETERINARIA   \n",
      "1                            DEMAIS PRODUTOS MANUFATURADOS   \n",
      "2        PARTES E PECAS PARA VEICULOS AUTOMOVEIS E TRAT...   \n",
      "3        BOMBAS, COMPRESSORES, VENTILADORES, ETC. E SUA...   \n",
      "4        PRODUTOS DE PERFUMARIA,DE TOUCADOR E PREPARS.C...   \n",
      "...                                                    ...   \n",
      "6593127  INSTRUMENTOS E APARELHOS DE MEDIDA, DE VERIFIC...   \n",
      "6593128                      DEMAIS PRODUTOS MANUFATURADOS   \n",
      "6593129  TORNEIRAS, VALVULAS E DISPOSITIVOS SEMELHANTES...   \n",
      "6593130  MAQUINAS E APARELHOS P/USO AGRICOLA (EXCETO TR...   \n",
      "6593131  PRODUTOS DE PERFUMARIA,DE TOUCADOR E PREPARS.C...   \n",
      "\n",
      "                                                NO_PPE_MIN  \\\n",
      "0          Medicamentos para medicina humana e veterinária   \n",
      "1                            Demais produtos manufaturados   \n",
      "2        Partes e pecas para veículos automóveis e trat...   \n",
      "3        Bombas, compressores, ventiladores, etc. e sua...   \n",
      "4        Produtos de perfumaria,de toucador e prepars.c...   \n",
      "...                                                    ...   \n",
      "6593127  Instrumentos e aparelhos de medida, de verific...   \n",
      "6593128                      Demais produtos manufaturados   \n",
      "6593129  Torneiras, válvulas e dispositivos semelhantes...   \n",
      "6593130  Maquinas e aparelhos p/uso agrícola (exceto tr...   \n",
      "6593131  Produtos de perfumaria,de toucador e prepars.c...   \n",
      "\n",
      "                                                NO_PPE_ING  \n",
      "0              MEDICINES FOR HUMAN MEDICINE AND VETERINARY  \n",
      "1                                 OTHER MANUFACTURED GOODS  \n",
      "2         PARTS AND PIECES OF MOTOR, VEHICLES AND TRACTORS  \n",
      "3                 PUMPS, COMPRESSORS, FANS, ETC. AND PARTS  \n",
      "4              PERFUMERY, AND TOILET COSMETIC PREPARATIONS  \n",
      "...                                                    ...  \n",
      "6593127  INSTRUMENTS AND APPLIANCES FOR MEASURING, CHEC...  \n",
      "6593128                           OTHER MANUFACTURED GOODS  \n",
      "6593129         TAPS, VALVES AND SIMILAR DEVICES AND PARTS  \n",
      "6593130  MACHINES AND APPARATUS FOR AGRICULTURAL USE (E...  \n",
      "6593131        PERFUMERY, AND TOILET COSMETIC PREPARATIONS  \n",
      "\n",
      "[6593132 rows x 16 columns]\n"
     ]
    }
   ],
   "source": [
    "print(exportacao)"
   ]
  },
  {
   "cell_type": "code",
   "execution_count": 17,
   "id": "3bdcbbad",
   "metadata": {},
   "outputs": [],
   "source": [
    "# Criando um merge da tabela principal com a tabela auxiliar - Pais\n",
    "\n",
    "exportacao = pd.merge(exportacao, paises, how='left', on='CO_PAIS')"
   ]
  },
  {
   "cell_type": "code",
   "execution_count": 18,
   "id": "7359a52d",
   "metadata": {},
   "outputs": [
    {
     "name": "stdout",
     "output_type": "stream",
     "text": [
      "         CO_ANO  CO_MES    CO_NCM  CO_UNID  CO_PAIS SG_UF_NCM  CO_VIA  \\\n",
      "0          2022      10  30049069       10      493        SP       1   \n",
      "1          2022       5  11029000       10       77        SC       1   \n",
      "2          2022       9  87085099       10       63        RS       7   \n",
      "3          2022       1  84141000       11      158        RS       7   \n",
      "4          2022       5  33061000       10      607        ES       1   \n",
      "...         ...     ...       ...      ...      ...       ...     ...   \n",
      "6593127    2018      12  90318030       11      249        SP       4   \n",
      "6593128    2018      12  38099190       10      573        SP       1   \n",
      "6593129    2018      12  84819090       10      158        RJ       7   \n",
      "6593130    2018      12  84329000       10      386        SP       1   \n",
      "6593131    2018      12  33042090       10      351        PR       4   \n",
      "\n",
      "          CO_URF  QT_ESTAT  KG_LIQUIDO  ...  \\\n",
      "0         817800     18768       18768  ...   \n",
      "1         927700         6           6  ...   \n",
      "2        1017500     35618       35619  ...   \n",
      "3        1017500         4           1  ...   \n",
      "4         727600         6           6  ...   \n",
      "...          ...       ...         ...  ...   \n",
      "6593127   817700         2           0  ...   \n",
      "6593128   817800     18779       18779  ...   \n",
      "6593129  1017500        10          18  ...   \n",
      "6593130   817800       231         231  ...   \n",
      "6593131   917900         0           0  ...   \n",
      "\n",
      "                                                NO_NCM_POR  CO_PPE  \\\n",
      "0        Outros medicamentos contendo compostos heteroc...  3338.0   \n",
      "1                                Farinha de outros cereais  3990.0   \n",
      "2          Outros eixos e partes, para veículos automóveis  3450.0   \n",
      "3                                          Bombas de vácuo  3060.0   \n",
      "4                                             Dentifrícios  3681.0   \n",
      "...                                                    ...     ...   \n",
      "6593127                                     Metros padrões  3715.0   \n",
      "6593128  Outros agentes de apresto/acabamento, etc, par...  3990.0   \n",
      "6593129  Partes de torneiras, outros dispositivos para ...  3857.0   \n",
      "6593130  Partes de máquinas e aparelhos de uso agrícola...  3139.0   \n",
      "6593131         Outros produtos de maquiagem para os olhos  3681.0   \n",
      "\n",
      "                                                    NO_PPE  \\\n",
      "0          MEDICAMENTOS PARA MEDICINA HUMANA E VETERINARIA   \n",
      "1                            DEMAIS PRODUTOS MANUFATURADOS   \n",
      "2        PARTES E PECAS PARA VEICULOS AUTOMOVEIS E TRAT...   \n",
      "3        BOMBAS, COMPRESSORES, VENTILADORES, ETC. E SUA...   \n",
      "4        PRODUTOS DE PERFUMARIA,DE TOUCADOR E PREPARS.C...   \n",
      "...                                                    ...   \n",
      "6593127  INSTRUMENTOS E APARELHOS DE MEDIDA, DE VERIFIC...   \n",
      "6593128                      DEMAIS PRODUTOS MANUFATURADOS   \n",
      "6593129  TORNEIRAS, VALVULAS E DISPOSITIVOS SEMELHANTES...   \n",
      "6593130  MAQUINAS E APARELHOS P/USO AGRICOLA (EXCETO TR...   \n",
      "6593131  PRODUTOS DE PERFUMARIA,DE TOUCADOR E PREPARS.C...   \n",
      "\n",
      "                                                NO_PPE_MIN  \\\n",
      "0          Medicamentos para medicina humana e veterinária   \n",
      "1                            Demais produtos manufaturados   \n",
      "2        Partes e pecas para veículos automóveis e trat...   \n",
      "3        Bombas, compressores, ventiladores, etc. e sua...   \n",
      "4        Produtos de perfumaria,de toucador e prepars.c...   \n",
      "...                                                    ...   \n",
      "6593127  Instrumentos e aparelhos de medida, de verific...   \n",
      "6593128                      Demais produtos manufaturados   \n",
      "6593129  Torneiras, válvulas e dispositivos semelhantes...   \n",
      "6593130  Maquinas e aparelhos p/uso agrícola (exceto tr...   \n",
      "6593131  Produtos de perfumaria,de toucador e prepars.c...   \n",
      "\n",
      "                                                NO_PPE_ING CO_PAIS_ISON3  \\\n",
      "0              MEDICINES FOR HUMAN MEDICINE AND VETERINARY           484   \n",
      "1                                 OTHER MANUFACTURED GOODS            44   \n",
      "2         PARTS AND PIECES OF MOTOR, VEHICLES AND TRACTORS            32   \n",
      "3                 PUMPS, COMPRESSORS, FANS, ETC. AND PARTS           152   \n",
      "4              PERFUMERY, AND TOILET COSMETIC PREPARATIONS           620   \n",
      "...                                                    ...           ...   \n",
      "6593127  INSTRUMENTS AND APPLIANCES FOR MEASURING, CHEC...           840   \n",
      "6593128                           OTHER MANUFACTURED GOODS           528   \n",
      "6593129         TAPS, VALVES AND SIMILAR DEVICES AND PARTS           152   \n",
      "6593130  MACHINES AND APPARATUS FOR AGRICULTURAL USE (E...           380   \n",
      "6593131        PERFUMERY, AND TOILET COSMETIC PREPARATIONS           344   \n",
      "\n",
      "         CO_PAIS_ISOA3                  NO_PAIS    NO_PAIS_ING     NO_PAIS_ESP  \n",
      "0                  MEX                   México         Mexico          México  \n",
      "1                  BHS                  Bahamas        Bahamas         Bahamas  \n",
      "2                  ARG                Argentina      Argentina       Argentina  \n",
      "3                  CHL                    Chile          Chile           Chile  \n",
      "4                  PRT                 Portugal       Portugal        Portugal  \n",
      "...                ...                      ...            ...             ...  \n",
      "6593127            USA           Estados Unidos  United States  Estados Unidos  \n",
      "6593128            NLD  Países Baixos (Holanda)    Netherlands    Países Bajos  \n",
      "6593129            CHL                    Chile          Chile           Chile  \n",
      "6593130            ITA                   Itália          Italy          Italia  \n",
      "6593131            HKG                Hong Kong      Hong Kong       Hong Kong  \n",
      "\n",
      "[6593132 rows x 21 columns]\n"
     ]
    }
   ],
   "source": [
    "print(exportacao)"
   ]
  },
  {
   "cell_type": "code",
   "execution_count": 19,
   "id": "88af18e4",
   "metadata": {},
   "outputs": [],
   "source": [
    "# Criando um merge da tabela principal com a tabela auxiliar - Via\n",
    "\n",
    "exportacao = pd.merge(exportacao, via, how='left', on='CO_VIA')"
   ]
  },
  {
   "cell_type": "code",
   "execution_count": 20,
   "id": "d9658e55",
   "metadata": {},
   "outputs": [
    {
     "name": "stdout",
     "output_type": "stream",
     "text": [
      "         CO_ANO  CO_MES    CO_NCM  CO_UNID  CO_PAIS SG_UF_NCM  CO_VIA  \\\n",
      "0          2022      10  30049069       10      493        SP       1   \n",
      "1          2022       5  11029000       10       77        SC       1   \n",
      "2          2022       9  87085099       10       63        RS       7   \n",
      "3          2022       1  84141000       11      158        RS       7   \n",
      "4          2022       5  33061000       10      607        ES       1   \n",
      "...         ...     ...       ...      ...      ...       ...     ...   \n",
      "6593127    2018      12  90318030       11      249        SP       4   \n",
      "6593128    2018      12  38099190       10      573        SP       1   \n",
      "6593129    2018      12  84819090       10      158        RJ       7   \n",
      "6593130    2018      12  84329000       10      386        SP       1   \n",
      "6593131    2018      12  33042090       10      351        PR       4   \n",
      "\n",
      "          CO_URF  QT_ESTAT  KG_LIQUIDO  ...  CO_PPE  \\\n",
      "0         817800     18768       18768  ...  3338.0   \n",
      "1         927700         6           6  ...  3990.0   \n",
      "2        1017500     35618       35619  ...  3450.0   \n",
      "3        1017500         4           1  ...  3060.0   \n",
      "4         727600         6           6  ...  3681.0   \n",
      "...          ...       ...         ...  ...     ...   \n",
      "6593127   817700         2           0  ...  3715.0   \n",
      "6593128   817800     18779       18779  ...  3990.0   \n",
      "6593129  1017500        10          18  ...  3857.0   \n",
      "6593130   817800       231         231  ...  3139.0   \n",
      "6593131   917900         0           0  ...  3681.0   \n",
      "\n",
      "                                                    NO_PPE  \\\n",
      "0          MEDICAMENTOS PARA MEDICINA HUMANA E VETERINARIA   \n",
      "1                            DEMAIS PRODUTOS MANUFATURADOS   \n",
      "2        PARTES E PECAS PARA VEICULOS AUTOMOVEIS E TRAT...   \n",
      "3        BOMBAS, COMPRESSORES, VENTILADORES, ETC. E SUA...   \n",
      "4        PRODUTOS DE PERFUMARIA,DE TOUCADOR E PREPARS.C...   \n",
      "...                                                    ...   \n",
      "6593127  INSTRUMENTOS E APARELHOS DE MEDIDA, DE VERIFIC...   \n",
      "6593128                      DEMAIS PRODUTOS MANUFATURADOS   \n",
      "6593129  TORNEIRAS, VALVULAS E DISPOSITIVOS SEMELHANTES...   \n",
      "6593130  MAQUINAS E APARELHOS P/USO AGRICOLA (EXCETO TR...   \n",
      "6593131  PRODUTOS DE PERFUMARIA,DE TOUCADOR E PREPARS.C...   \n",
      "\n",
      "                                                NO_PPE_MIN  \\\n",
      "0          Medicamentos para medicina humana e veterinária   \n",
      "1                            Demais produtos manufaturados   \n",
      "2        Partes e pecas para veículos automóveis e trat...   \n",
      "3        Bombas, compressores, ventiladores, etc. e sua...   \n",
      "4        Produtos de perfumaria,de toucador e prepars.c...   \n",
      "...                                                    ...   \n",
      "6593127  Instrumentos e aparelhos de medida, de verific...   \n",
      "6593128                      Demais produtos manufaturados   \n",
      "6593129  Torneiras, válvulas e dispositivos semelhantes...   \n",
      "6593130  Maquinas e aparelhos p/uso agrícola (exceto tr...   \n",
      "6593131  Produtos de perfumaria,de toucador e prepars.c...   \n",
      "\n",
      "                                                NO_PPE_ING CO_PAIS_ISON3  \\\n",
      "0              MEDICINES FOR HUMAN MEDICINE AND VETERINARY           484   \n",
      "1                                 OTHER MANUFACTURED GOODS            44   \n",
      "2         PARTS AND PIECES OF MOTOR, VEHICLES AND TRACTORS            32   \n",
      "3                 PUMPS, COMPRESSORS, FANS, ETC. AND PARTS           152   \n",
      "4              PERFUMERY, AND TOILET COSMETIC PREPARATIONS           620   \n",
      "...                                                    ...           ...   \n",
      "6593127  INSTRUMENTS AND APPLIANCES FOR MEASURING, CHEC...           840   \n",
      "6593128                           OTHER MANUFACTURED GOODS           528   \n",
      "6593129         TAPS, VALVES AND SIMILAR DEVICES AND PARTS           152   \n",
      "6593130  MACHINES AND APPARATUS FOR AGRICULTURAL USE (E...           380   \n",
      "6593131        PERFUMERY, AND TOILET COSMETIC PREPARATIONS           344   \n",
      "\n",
      "        CO_PAIS_ISOA3                  NO_PAIS    NO_PAIS_ING     NO_PAIS_ESP  \\\n",
      "0                 MEX                   México         Mexico          México   \n",
      "1                 BHS                  Bahamas        Bahamas         Bahamas   \n",
      "2                 ARG                Argentina      Argentina       Argentina   \n",
      "3                 CHL                    Chile          Chile           Chile   \n",
      "4                 PRT                 Portugal       Portugal        Portugal   \n",
      "...               ...                      ...            ...             ...   \n",
      "6593127           USA           Estados Unidos  United States  Estados Unidos   \n",
      "6593128           NLD  Países Baixos (Holanda)    Netherlands    Países Bajos   \n",
      "6593129           CHL                    Chile          Chile           Chile   \n",
      "6593130           ITA                   Itália          Italy          Italia   \n",
      "6593131           HKG                Hong Kong      Hong Kong       Hong Kong   \n",
      "\n",
      "             NO_VIA  \n",
      "0          MARITIMA  \n",
      "1          MARITIMA  \n",
      "2        RODOVIARIA  \n",
      "3        RODOVIARIA  \n",
      "4          MARITIMA  \n",
      "...             ...  \n",
      "6593127       AEREA  \n",
      "6593128    MARITIMA  \n",
      "6593129  RODOVIARIA  \n",
      "6593130    MARITIMA  \n",
      "6593131       AEREA  \n",
      "\n",
      "[6593132 rows x 22 columns]\n"
     ]
    }
   ],
   "source": [
    "print(exportacao)"
   ]
  },
  {
   "cell_type": "code",
   "execution_count": 21,
   "id": "3ccfaac8",
   "metadata": {},
   "outputs": [],
   "source": [
    "#Principais estados exportadores \n",
    "\n",
    "exportacao['date_exportacao'] = pd.to_datetime(exportacao['CO_ANO'].astype(str) + \n",
    "                                                    '-' + exportacao['CO_MES'].astype(str).str.zfill(2) + '-01')\n",
    "\n"
   ]
  },
  {
   "cell_type": "code",
   "execution_count": 22,
   "id": "7d6cb83d",
   "metadata": {},
   "outputs": [
    {
     "name": "stdout",
     "output_type": "stream",
     "text": [
      "         CO_ANO  CO_MES    CO_NCM  CO_UNID  CO_PAIS SG_UF_NCM  CO_VIA  \\\n",
      "0          2022      10  30049069       10      493        SP       1   \n",
      "1          2022       5  11029000       10       77        SC       1   \n",
      "2          2022       9  87085099       10       63        RS       7   \n",
      "3          2022       1  84141000       11      158        RS       7   \n",
      "4          2022       5  33061000       10      607        ES       1   \n",
      "...         ...     ...       ...      ...      ...       ...     ...   \n",
      "6593127    2018      12  90318030       11      249        SP       4   \n",
      "6593128    2018      12  38099190       10      573        SP       1   \n",
      "6593129    2018      12  84819090       10      158        RJ       7   \n",
      "6593130    2018      12  84329000       10      386        SP       1   \n",
      "6593131    2018      12  33042090       10      351        PR       4   \n",
      "\n",
      "          CO_URF  QT_ESTAT  KG_LIQUIDO  ...  \\\n",
      "0         817800     18768       18768  ...   \n",
      "1         927700         6           6  ...   \n",
      "2        1017500     35618       35619  ...   \n",
      "3        1017500         4           1  ...   \n",
      "4         727600         6           6  ...   \n",
      "...          ...       ...         ...  ...   \n",
      "6593127   817700         2           0  ...   \n",
      "6593128   817800     18779       18779  ...   \n",
      "6593129  1017500        10          18  ...   \n",
      "6593130   817800       231         231  ...   \n",
      "6593131   917900         0           0  ...   \n",
      "\n",
      "                                                    NO_PPE  \\\n",
      "0          MEDICAMENTOS PARA MEDICINA HUMANA E VETERINARIA   \n",
      "1                            DEMAIS PRODUTOS MANUFATURADOS   \n",
      "2        PARTES E PECAS PARA VEICULOS AUTOMOVEIS E TRAT...   \n",
      "3        BOMBAS, COMPRESSORES, VENTILADORES, ETC. E SUA...   \n",
      "4        PRODUTOS DE PERFUMARIA,DE TOUCADOR E PREPARS.C...   \n",
      "...                                                    ...   \n",
      "6593127  INSTRUMENTOS E APARELHOS DE MEDIDA, DE VERIFIC...   \n",
      "6593128                      DEMAIS PRODUTOS MANUFATURADOS   \n",
      "6593129  TORNEIRAS, VALVULAS E DISPOSITIVOS SEMELHANTES...   \n",
      "6593130  MAQUINAS E APARELHOS P/USO AGRICOLA (EXCETO TR...   \n",
      "6593131  PRODUTOS DE PERFUMARIA,DE TOUCADOR E PREPARS.C...   \n",
      "\n",
      "                                                NO_PPE_MIN  \\\n",
      "0          Medicamentos para medicina humana e veterinária   \n",
      "1                            Demais produtos manufaturados   \n",
      "2        Partes e pecas para veículos automóveis e trat...   \n",
      "3        Bombas, compressores, ventiladores, etc. e sua...   \n",
      "4        Produtos de perfumaria,de toucador e prepars.c...   \n",
      "...                                                    ...   \n",
      "6593127  Instrumentos e aparelhos de medida, de verific...   \n",
      "6593128                      Demais produtos manufaturados   \n",
      "6593129  Torneiras, válvulas e dispositivos semelhantes...   \n",
      "6593130  Maquinas e aparelhos p/uso agrícola (exceto tr...   \n",
      "6593131  Produtos de perfumaria,de toucador e prepars.c...   \n",
      "\n",
      "                                                NO_PPE_ING CO_PAIS_ISON3  \\\n",
      "0              MEDICINES FOR HUMAN MEDICINE AND VETERINARY           484   \n",
      "1                                 OTHER MANUFACTURED GOODS            44   \n",
      "2         PARTS AND PIECES OF MOTOR, VEHICLES AND TRACTORS            32   \n",
      "3                 PUMPS, COMPRESSORS, FANS, ETC. AND PARTS           152   \n",
      "4              PERFUMERY, AND TOILET COSMETIC PREPARATIONS           620   \n",
      "...                                                    ...           ...   \n",
      "6593127  INSTRUMENTS AND APPLIANCES FOR MEASURING, CHEC...           840   \n",
      "6593128                           OTHER MANUFACTURED GOODS           528   \n",
      "6593129         TAPS, VALVES AND SIMILAR DEVICES AND PARTS           152   \n",
      "6593130  MACHINES AND APPARATUS FOR AGRICULTURAL USE (E...           380   \n",
      "6593131        PERFUMERY, AND TOILET COSMETIC PREPARATIONS           344   \n",
      "\n",
      "        CO_PAIS_ISOA3                  NO_PAIS    NO_PAIS_ING     NO_PAIS_ESP  \\\n",
      "0                 MEX                   México         Mexico          México   \n",
      "1                 BHS                  Bahamas        Bahamas         Bahamas   \n",
      "2                 ARG                Argentina      Argentina       Argentina   \n",
      "3                 CHL                    Chile          Chile           Chile   \n",
      "4                 PRT                 Portugal       Portugal        Portugal   \n",
      "...               ...                      ...            ...             ...   \n",
      "6593127           USA           Estados Unidos  United States  Estados Unidos   \n",
      "6593128           NLD  Países Baixos (Holanda)    Netherlands    Países Bajos   \n",
      "6593129           CHL                    Chile          Chile           Chile   \n",
      "6593130           ITA                   Itália          Italy          Italia   \n",
      "6593131           HKG                Hong Kong      Hong Kong       Hong Kong   \n",
      "\n",
      "             NO_VIA date_exportacao  \n",
      "0          MARITIMA      2022-10-01  \n",
      "1          MARITIMA      2022-05-01  \n",
      "2        RODOVIARIA      2022-09-01  \n",
      "3        RODOVIARIA      2022-01-01  \n",
      "4          MARITIMA      2022-05-01  \n",
      "...             ...             ...  \n",
      "6593127       AEREA      2018-12-01  \n",
      "6593128    MARITIMA      2018-12-01  \n",
      "6593129  RODOVIARIA      2018-12-01  \n",
      "6593130    MARITIMA      2018-12-01  \n",
      "6593131       AEREA      2018-12-01  \n",
      "\n",
      "[6593132 rows x 23 columns]\n"
     ]
    }
   ],
   "source": [
    "print(exportacao)\n"
   ]
  },
  {
   "cell_type": "code",
   "execution_count": 23,
   "id": "8a01138a",
   "metadata": {},
   "outputs": [],
   "source": [
    "exportacao_prod = exportacao[(exportacao[\"SG_UF_NCM\"] == \"ES\") & \n",
    "                             (exportacao[\"CO_VIA\"] == 1) & \n",
    "                             (exportacao[\"KG_LIQUIDO\"] > 0)]"
   ]
  },
  {
   "cell_type": "code",
   "execution_count": 24,
   "id": "3b8dfa80",
   "metadata": {},
   "outputs": [
    {
     "name": "stdout",
     "output_type": "stream",
     "text": [
      "         CO_ANO  CO_MES    CO_NCM  CO_UNID  CO_PAIS SG_UF_NCM  CO_VIA  CO_URF  \\\n",
      "4          2022       5  33061000       10      607        ES       1  727600   \n",
      "64         2022       7   7061000       10      160        ES       1  727600   \n",
      "71         2022       9  16041310       10      580        ES       1  727600   \n",
      "118        2022       8   7049000       10      434        ES       1  717800   \n",
      "119        2022       5  16025000       10      434        ES       1  727600   \n",
      "...         ...     ...       ...      ...      ...       ...     ...     ...   \n",
      "6592889    2018      10  34029090       10      301        ES       1  727600   \n",
      "6592995    2018      10   4039000       10      386        ES       1  727600   \n",
      "6593026    2018      12   2091011       10      476        ES       1  727600   \n",
      "6593061    2018      12   7069000       10      628        ES       1  727600   \n",
      "6593083    2018      12   3061710       10      741        ES       1  727600   \n",
      "\n",
      "         QT_ESTAT  KG_LIQUIDO  ...  \\\n",
      "4               6           6  ...   \n",
      "64             79          79  ...   \n",
      "71             89          89  ...   \n",
      "118            20          20  ...   \n",
      "119           110         110  ...   \n",
      "...           ...         ...  ...   \n",
      "6592889         1           1  ...   \n",
      "6592995         8           8  ...   \n",
      "6593026        40          40  ...   \n",
      "6593061        10          10  ...   \n",
      "6593083         4           4  ...   \n",
      "\n",
      "                                                    NO_PPE  \\\n",
      "4        PRODUTOS DE PERFUMARIA,DE TOUCADOR E PREPARS.C...   \n",
      "64                                 DEMAIS PRODUTOS BASICOS   \n",
      "71                      PREPARACOES E CONSERVAS, DE PEIXES   \n",
      "118                                DEMAIS PRODUTOS BASICOS   \n",
      "119               PREPARACOES E CONSERVAS, DE CARNE BOVINA   \n",
      "...                                                    ...   \n",
      "6592889       SABOES, PRODUTOS E PREPARACOES, PARA LIMPEZA   \n",
      "6592995                      DEMAIS PRODUTOS MANUFATURADOS   \n",
      "6593026                            DEMAIS PRODUTOS BASICOS   \n",
      "6593061                            DEMAIS PRODUTOS BASICOS   \n",
      "6593083                                  CAMARAO CONGELADO   \n",
      "\n",
      "                                                NO_PPE_MIN  \\\n",
      "4        Produtos de perfumaria,de toucador e prepars.c...   \n",
      "64                                 Demais produtos básicos   \n",
      "71                      Preparações e conservas, de peixes   \n",
      "118                                Demais produtos básicos   \n",
      "119               Preparações e conservas, de carne bovina   \n",
      "...                                                    ...   \n",
      "6592889       Sabões, produtos e preparações, para limpeza   \n",
      "6592995                      Demais produtos manufaturados   \n",
      "6593026                            Demais produtos básicos   \n",
      "6593061                            Demais produtos básicos   \n",
      "6593083                                  Camarão congelado   \n",
      "\n",
      "                                          NO_PPE_ING CO_PAIS_ISON3  \\\n",
      "4        PERFUMERY, AND TOILET COSMETIC PREPARATIONS           620   \n",
      "64                                 OTHER BASIC GOODS           156   \n",
      "71                  PREPARATIONS AND PRESERVED FISHS           591   \n",
      "118                                OTHER BASIC GOODS           430   \n",
      "119                    PREPARATIONS AND CANNED, BEEF           430   \n",
      "...                                              ...           ...   \n",
      "6592889           SOAP AND PREPARATIONS FOR CLEANING           300   \n",
      "6592995                     OTHER MANUFACTURED GOODS           380   \n",
      "6593026                            OTHER BASIC GOODS           584   \n",
      "6593061                            OTHER BASIC GOODS           826   \n",
      "6593083                                FROZEN SHRIMP           702   \n",
      "\n",
      "        CO_PAIS_ISOA3          NO_PAIS       NO_PAIS_ING     NO_PAIS_ESP  \\\n",
      "4                 PRT         Portugal          Portugal        Portugal   \n",
      "64                CHN            China             China           China   \n",
      "71                PAN           Panamá            Panama          Panamá   \n",
      "118               LBR          Libéria           Liberia         Liberia   \n",
      "119               LBR          Libéria           Liberia         Liberia   \n",
      "...               ...              ...               ...             ...   \n",
      "6592889           GRC           Grécia            Greece          Grecia   \n",
      "6592995           ITA           Itália             Italy          Italia   \n",
      "6593026           MHL  Marshall, Ilhas  Marshall Islands  Islas Marshall   \n",
      "6593061           GBR      Reino Unido    United Kingdom     Reino Unido   \n",
      "6593083           SGP        Singapura         Singapore        Singapur   \n",
      "\n",
      "           NO_VIA date_exportacao  \n",
      "4        MARITIMA      2022-05-01  \n",
      "64       MARITIMA      2022-07-01  \n",
      "71       MARITIMA      2022-09-01  \n",
      "118      MARITIMA      2022-08-01  \n",
      "119      MARITIMA      2022-05-01  \n",
      "...           ...             ...  \n",
      "6592889  MARITIMA      2018-10-01  \n",
      "6592995  MARITIMA      2018-10-01  \n",
      "6593026  MARITIMA      2018-12-01  \n",
      "6593061  MARITIMA      2018-12-01  \n",
      "6593083  MARITIMA      2018-12-01  \n",
      "\n",
      "[178336 rows x 23 columns]\n"
     ]
    }
   ],
   "source": [
    "print(exportacao_prod)"
   ]
  },
  {
   "cell_type": "code",
   "execution_count": 25,
   "id": "18ecf621",
   "metadata": {},
   "outputs": [],
   "source": [
    "exportacao_prod = exportacao_prod.groupby(['CO_ANO', 'NO_PPE', 'SG_UF_NCM'])['VL_FOB'].sum().sort_values(ascending=False).to_frame()"
   ]
  },
  {
   "cell_type": "code",
   "execution_count": 26,
   "id": "3fd9e313",
   "metadata": {},
   "outputs": [
    {
     "name": "stdout",
     "output_type": "stream",
     "text": [
      "                                                                         VL_FOB\n",
      "CO_ANO NO_PPE                                             SG_UF_NCM            \n",
      "2021   MINERIOS DE FERRO E SEUS CONCENTRADOS              ES         3326195391\n",
      "2018   MINERIOS DE FERRO E SEUS CONCENTRADOS              ES         2906063651\n",
      "2022   MINERIOS DE FERRO E SEUS CONCENTRADOS              ES         2289053209\n",
      "2019   MINERIOS DE FERRO E SEUS CONCENTRADOS              ES         2048489151\n",
      "2021   PRODUTOS SEMIMANUFATURADOS DE FERRO OU ACOS        ES         1887422668\n",
      "...                                                                         ...\n",
      "2018   ARDOSIA NATURAL E OBRAS DE ARDOSIA                 ES                  4\n",
      "       INSTRUMENTOS E APARELHOS MEDICOS                   ES                  4\n",
      "2020   ETERES ALCOOLICOS E SEUS DERIVADOS                 ES                  3\n",
      "2019   MOLDES PARA METAIS,VIDRO,MINERAIS, BORRACHA OU ... ES                  2\n",
      "2022   ETERES ALCOOLICOS E SEUS DERIVADOS                 ES                  1\n",
      "\n",
      "[1263 rows x 1 columns]\n"
     ]
    }
   ],
   "source": [
    "print(exportacao_prod)"
   ]
  },
  {
   "cell_type": "code",
   "execution_count": 27,
   "id": "d55c79b3",
   "metadata": {},
   "outputs": [],
   "source": [
    "lista_exportacao_es = [exportacao_prod.query('SG_UF_NCM == \"ES\" & CO_ANO == 2018').head(5), \n",
    "                    exportacao_prod.query('SG_UF_NCM == \"ES\" & CO_ANO == 2019').head(5), \n",
    "                    exportacao_prod.query('SG_UF_NCM == \"ES\" & CO_ANO == 2020').head(5), \n",
    "                    exportacao_prod.query('SG_UF_NCM == \"ES\" & CO_ANO == 2021').head(5), \n",
    "                    exportacao_prod.query('SG_UF_NCM == \"ES\" & CO_ANO == 2022').head(5)]"
   ]
  },
  {
   "cell_type": "code",
   "execution_count": 28,
   "id": "4de3c6c0",
   "metadata": {},
   "outputs": [
    {
     "name": "stdout",
     "output_type": "stream",
     "text": [
      "[                                                                  VL_FOB\n",
      "CO_ANO NO_PPE                                      SG_UF_NCM            \n",
      "2018   MINERIOS DE FERRO E SEUS CONCENTRADOS       ES         2906063651\n",
      "       PRODUTOS SEMIMANUFATURADOS DE FERRO OU ACOS ES         1332719124\n",
      "       OLEOS BRUTOS DE PETROLEO                    ES          959972646\n",
      "       CELULOSE                                    ES          920246216\n",
      "       PRODUTOS LAMINADOS PLANOS DE FERRO OU ACOS  ES          660118689,                                                                   VL_FOB\n",
      "CO_ANO NO_PPE                                      SG_UF_NCM            \n",
      "2019   MINERIOS DE FERRO E SEUS CONCENTRADOS       ES         2048489151\n",
      "       PRODUTOS SEMIMANUFATURADOS DE FERRO OU ACOS ES         1034147044\n",
      "       OLEOS BRUTOS DE PETROLEO                    ES         1014453632\n",
      "       CELULOSE                                    ES          604862304\n",
      "       PRODUTOS LAMINADOS PLANOS DE FERRO OU ACOS  ES          530567515,                                                                   VL_FOB\n",
      "CO_ANO NO_PPE                                      SG_UF_NCM            \n",
      "2020   MINERIOS DE FERRO E SEUS CONCENTRADOS       ES         1158714902\n",
      "       CELULOSE                                    ES          592432253\n",
      "       OLEOS BRUTOS DE PETROLEO                    ES          566873464\n",
      "       CAFE CRU EM GRAO                            ES          550794461\n",
      "       PRODUTOS SEMIMANUFATURADOS DE FERRO OU ACOS ES          514510383,                                                                   VL_FOB\n",
      "CO_ANO NO_PPE                                      SG_UF_NCM            \n",
      "2021   MINERIOS DE FERRO E SEUS CONCENTRADOS       ES         3326195391\n",
      "       PRODUTOS SEMIMANUFATURADOS DE FERRO OU ACOS ES         1887422668\n",
      "       OLEOS BRUTOS DE PETROLEO                    ES          988317617\n",
      "       CELULOSE                                    ES          668551452\n",
      "       CAFE CRU EM GRAO                            ES          625932025,                                                                   VL_FOB\n",
      "CO_ANO NO_PPE                                      SG_UF_NCM            \n",
      "2022   MINERIOS DE FERRO E SEUS CONCENTRADOS       ES         2289053209\n",
      "       PRODUTOS SEMIMANUFATURADOS DE FERRO OU ACOS ES         1301397585\n",
      "       OLEOS BRUTOS DE PETROLEO                    ES          758683064\n",
      "       PRODUTOS LAMINADOS PLANOS DE FERRO OU ACOS  ES          637358991\n",
      "       CELULOSE                                    ES          598824658]\n"
     ]
    }
   ],
   "source": [
    "print(lista_exportacao_es)"
   ]
  },
  {
   "cell_type": "code",
   "execution_count": 29,
   "id": "b16561a2",
   "metadata": {},
   "outputs": [
    {
     "name": "stdout",
     "output_type": "stream",
     "text": [
      "                                                                  VL_FOB\n",
      "CO_ANO NO_PPE                                      SG_UF_NCM            \n",
      "2018   MINERIOS DE FERRO E SEUS CONCENTRADOS       ES         2906063651\n",
      "       PRODUTOS SEMIMANUFATURADOS DE FERRO OU ACOS ES         1332719124\n",
      "       OLEOS BRUTOS DE PETROLEO                    ES          959972646\n",
      "       CELULOSE                                    ES          920246216\n",
      "       PRODUTOS LAMINADOS PLANOS DE FERRO OU ACOS  ES          660118689\n",
      "2019   MINERIOS DE FERRO E SEUS CONCENTRADOS       ES         2048489151\n",
      "       PRODUTOS SEMIMANUFATURADOS DE FERRO OU ACOS ES         1034147044\n",
      "       OLEOS BRUTOS DE PETROLEO                    ES         1014453632\n",
      "       CELULOSE                                    ES          604862304\n",
      "       PRODUTOS LAMINADOS PLANOS DE FERRO OU ACOS  ES          530567515\n",
      "2020   MINERIOS DE FERRO E SEUS CONCENTRADOS       ES         1158714902\n",
      "       CELULOSE                                    ES          592432253\n",
      "       OLEOS BRUTOS DE PETROLEO                    ES          566873464\n",
      "       CAFE CRU EM GRAO                            ES          550794461\n",
      "       PRODUTOS SEMIMANUFATURADOS DE FERRO OU ACOS ES          514510383\n",
      "2021   MINERIOS DE FERRO E SEUS CONCENTRADOS       ES         3326195391\n",
      "       PRODUTOS SEMIMANUFATURADOS DE FERRO OU ACOS ES         1887422668\n",
      "       OLEOS BRUTOS DE PETROLEO                    ES          988317617\n",
      "       CELULOSE                                    ES          668551452\n",
      "       CAFE CRU EM GRAO                            ES          625932025\n",
      "2022   MINERIOS DE FERRO E SEUS CONCENTRADOS       ES         2289053209\n",
      "       PRODUTOS SEMIMANUFATURADOS DE FERRO OU ACOS ES         1301397585\n",
      "       OLEOS BRUTOS DE PETROLEO                    ES          758683064\n",
      "       PRODUTOS LAMINADOS PLANOS DE FERRO OU ACOS  ES          637358991\n",
      "       CELULOSE                                    ES          598824658\n",
      "AxesSubplot(0.125,0.125;0.775x0.755)\n"
     ]
    },
    {
     "data": {
      "image/png": "[encoded data removed]",
      "text/plain": [
       "<Figure size 432x288 with 1 Axes>"
      ]
     },
     "metadata": {
      "needs_background": "light"
     },
     "output_type": "display_data"
    }
   ],
   "source": [
    "exportacao_grafico = pd.concat(lista_exportacao_es)\n",
    "print(exportacao_grafico)\n",
    "axis = exportacao_grafico.plot.bar(y='VL_FOB', rot=0, color=['r', 'b', 'g', 'y', 'm'])\n",
    "print(axis)\n",
    "plt.show()"
   ]
  },
  {
   "cell_type": "code",
   "execution_count": 30,
   "id": "bd286e23",
   "metadata": {},
   "outputs": [],
   "source": [
    "# Filtrando dados - Selecionando apenas as informações de exportação de minério de ferro e seus \n",
    "# concentrados pelos ES via Marítima \n",
    "\n",
    "exportacao_es_t = exportacao[(exportacao[\"NO_PPE\"] == \"MINERIOS DE FERRO E SEUS CONCENTRADOS\") & \n",
    "                             (exportacao[\"SG_UF_NCM\"] == \"ES\") & \n",
    "                             (exportacao[\"CO_VIA\"] == 1) & \n",
    "                             (exportacao[\"KG_LIQUIDO\"] > 0)]"
   ]
  },
  {
   "cell_type": "code",
   "execution_count": 31,
   "id": "2c913991",
   "metadata": {},
   "outputs": [
    {
     "name": "stdout",
     "output_type": "stream",
     "text": [
      "         CO_ANO  CO_MES    CO_NCM  CO_UNID  CO_PAIS SG_UF_NCM  CO_VIA  CO_URF  \\\n",
      "16297      2022       2  26011210       10      399        ES       1  727600   \n",
      "27152      2022       2  26011210       10      246        ES       1  727600   \n",
      "29898      2022       9  26011210       10      160        ES       1  727600   \n",
      "73951      2022       7  26011210       10       63        ES       1  727600   \n",
      "75233      2022       9  26011210       10      815        ES       1  727600   \n",
      "...         ...     ...       ...      ...      ...       ...     ...     ...   \n",
      "6524046    2018       4  26011210       10      249        ES       1  727600   \n",
      "6527780    2018       3  26011210       10      756        ES       1  727600   \n",
      "6529686    2018       6  26011210       10      386        ES       1  727600   \n",
      "6577414    2018       1  26011210       10      275        ES       1  727600   \n",
      "6578645    2018       6  26011210       10      756        ES       1  727600   \n",
      "\n",
      "          QT_ESTAT  KG_LIQUIDO  ...                                 NO_PPE  \\\n",
      "16297    340053000   340053000  ...  MINERIOS DE FERRO E SEUS CONCENTRADOS   \n",
      "27152    121000000   121000000  ...  MINERIOS DE FERRO E SEUS CONCENTRADOS   \n",
      "29898    132000000   132000000  ...  MINERIOS DE FERRO E SEUS CONCENTRADOS   \n",
      "73951    172727000   172727000  ...  MINERIOS DE FERRO E SEUS CONCENTRADOS   \n",
      "75233    166054000   166054000  ...  MINERIOS DE FERRO E SEUS CONCENTRADOS   \n",
      "...            ...         ...  ...                                    ...   \n",
      "6524046  341731000   341731000  ...  MINERIOS DE FERRO E SEUS CONCENTRADOS   \n",
      "6527780   50230000    50230000  ...  MINERIOS DE FERRO E SEUS CONCENTRADOS   \n",
      "6529686  241152000   241152000  ...  MINERIOS DE FERRO E SEUS CONCENTRADOS   \n",
      "6577414   77390000    77390000  ...  MINERIOS DE FERRO E SEUS CONCENTRADOS   \n",
      "6578645   50733000    50733000  ...  MINERIOS DE FERRO E SEUS CONCENTRADOS   \n",
      "\n",
      "                                    NO_PPE_MIN                     NO_PPE_ING  \\\n",
      "16297    Minérios de ferro e seus concentrados  IRON ORE AND CONCENTRATES ITS   \n",
      "27152    Minérios de ferro e seus concentrados  IRON ORE AND CONCENTRATES ITS   \n",
      "29898    Minérios de ferro e seus concentrados  IRON ORE AND CONCENTRATES ITS   \n",
      "73951    Minérios de ferro e seus concentrados  IRON ORE AND CONCENTRATES ITS   \n",
      "75233    Minérios de ferro e seus concentrados  IRON ORE AND CONCENTRATES ITS   \n",
      "...                                        ...                            ...   \n",
      "6524046  Minérios de ferro e seus concentrados  IRON ORE AND CONCENTRATES ITS   \n",
      "6527780  Minérios de ferro e seus concentrados  IRON ORE AND CONCENTRATES ITS   \n",
      "6529686  Minérios de ferro e seus concentrados  IRON ORE AND CONCENTRATES ITS   \n",
      "6577414  Minérios de ferro e seus concentrados  IRON ORE AND CONCENTRATES ITS   \n",
      "6578645  Minérios de ferro e seus concentrados  IRON ORE AND CONCENTRATES ITS   \n",
      "\n",
      "        CO_PAIS_ISON3 CO_PAIS_ISOA3            NO_PAIS          NO_PAIS_ING  \\\n",
      "16297             392           JPN              Japão                Japan   \n",
      "27152             705           SVN          Eslovênia             Slovenia   \n",
      "29898             156           CHN              China                China   \n",
      "73951              32           ARG          Argentina            Argentina   \n",
      "75233             780           TTO  Trinidad e Tobago  Trinidad and Tobago   \n",
      "...               ...           ...                ...                  ...   \n",
      "6524046           840           USA     Estados Unidos        United States   \n",
      "6527780           710           ZAF      África do Sul         South Africa   \n",
      "6529686           380           ITA             Itália                Italy   \n",
      "6577414           250           FRA             França               France   \n",
      "6578645           710           ZAF      África do Sul         South Africa   \n",
      "\n",
      "               NO_PAIS_ESP    NO_VIA date_exportacao  \n",
      "16297                Japón  MARITIMA      2022-02-01  \n",
      "27152            Eslovenia  MARITIMA      2022-02-01  \n",
      "29898                China  MARITIMA      2022-09-01  \n",
      "73951            Argentina  MARITIMA      2022-07-01  \n",
      "75233    Trinidad y Tobago  MARITIMA      2022-09-01  \n",
      "...                    ...       ...             ...  \n",
      "6524046     Estados Unidos  MARITIMA      2018-04-01  \n",
      "6527780          Sudáfrica  MARITIMA      2018-03-01  \n",
      "6529686             Italia  MARITIMA      2018-06-01  \n",
      "6577414            Francia  MARITIMA      2018-01-01  \n",
      "6578645          Sudáfrica  MARITIMA      2018-06-01  \n",
      "\n",
      "[540 rows x 23 columns]\n"
     ]
    }
   ],
   "source": [
    "print(exportacao_es_t)"
   ]
  },
  {
   "cell_type": "code",
   "execution_count": 32,
   "id": "61649dc1",
   "metadata": {},
   "outputs": [],
   "source": [
    "exportacao_es_dest = exportacao_es_t.groupby(['NO_PAIS'])['KG_LIQUIDO'].sum().sort_values(ascending=False).to_frame()"
   ]
  },
  {
   "cell_type": "code",
   "execution_count": 33,
   "id": "6c6171aa",
   "metadata": {},
   "outputs": [
    {
     "data": {
      "text/html": [
       "<div>\n",
       "<style scoped>\n",
       "    .dataframe tbody tr th:only-of-type {\n",
       "        vertical-align: middle;\n",
       "    }\n",
       "\n",
       "    .dataframe tbody tr th {\n",
       "        vertical-align: top;\n",
       "    }\n",
       "\n",
       "    .dataframe thead th {\n",
       "        text-align: right;\n",
       "    }\n",
       "</style>\n",
       "<table border=\"1\" class=\"dataframe\">\n",
       "  <thead>\n",
       "    <tr style=\"text-align: right;\">\n",
       "      <th></th>\n",
       "      <th>KG_LIQUIDO</th>\n",
       "    </tr>\n",
       "    <tr>\n",
       "      <th>NO_PAIS</th>\n",
       "      <th></th>\n",
       "    </tr>\n",
       "  </thead>\n",
       "  <tbody>\n",
       "    <tr>\n",
       "      <th>Estados Unidos</th>\n",
       "      <td>12176678190</td>\n",
       "    </tr>\n",
       "    <tr>\n",
       "      <th>Egito</th>\n",
       "      <td>11823316333</td>\n",
       "    </tr>\n",
       "    <tr>\n",
       "      <th>Argentina</th>\n",
       "      <td>10629558392</td>\n",
       "    </tr>\n",
       "    <tr>\n",
       "      <th>Japão</th>\n",
       "      <td>9937475100</td>\n",
       "    </tr>\n",
       "    <tr>\n",
       "      <th>China</th>\n",
       "      <td>9529123629</td>\n",
       "    </tr>\n",
       "    <tr>\n",
       "      <th>Trinidad e Tobago</th>\n",
       "      <td>5359113000</td>\n",
       "    </tr>\n",
       "    <tr>\n",
       "      <th>Líbia</th>\n",
       "      <td>4039822000</td>\n",
       "    </tr>\n",
       "    <tr>\n",
       "      <th>Coreia do Sul</th>\n",
       "      <td>3894104388</td>\n",
       "    </tr>\n",
       "    <tr>\n",
       "      <th>Itália</th>\n",
       "      <td>2885850000</td>\n",
       "    </tr>\n",
       "    <tr>\n",
       "      <th>Emirados Árabes Unidos</th>\n",
       "      <td>2599304000</td>\n",
       "    </tr>\n",
       "  </tbody>\n",
       "</table>\n",
       "</div>"
      ],
      "text/plain": [
       "                         KG_LIQUIDO\n",
       "NO_PAIS                            \n",
       "Estados Unidos          12176678190\n",
       "Egito                   11823316333\n",
       "Argentina               10629558392\n",
       "Japão                    9937475100\n",
       "China                    9529123629\n",
       "Trinidad e Tobago        5359113000\n",
       "Líbia                    4039822000\n",
       "Coreia do Sul            3894104388\n",
       "Itália                   2885850000\n",
       "Emirados Árabes Unidos   2599304000"
      ]
     },
     "execution_count": 33,
     "metadata": {},
     "output_type": "execute_result"
    }
   ],
   "source": [
    "exportacao_es_dest.head(10)"
   ]
  },
  {
   "cell_type": "code",
   "execution_count": 34,
   "id": "c01202e6",
   "metadata": {},
   "outputs": [
    {
     "data": {
      "image/png": "[encoded data removed]",
      "text/plain": [
       "<Figure size 432x288 with 1 Axes>"
      ]
     },
     "metadata": {
      "needs_background": "light"
     },
     "output_type": "display_data"
    }
   ],
   "source": [
    "df_10 = exportacao_es_dest.reset_index().head(10)\n",
    "\n",
    "fig, ax = plt.subplots()\n",
    "ax.bar(df_10[\"NO_PAIS\"], df_10[\"KG_LIQUIDO\"])\n",
    "ax.set_xlabel(\"País\")\n",
    "ax.set_ylabel(\"Peso em milhões de Toneladas\")\n",
    "ax.set_title(\"Princpais destinos das exportações de minério de ferro\")\n",
    "\n",
    "plt.show()"
   ]
  },
  {
   "cell_type": "code",
   "execution_count": 35,
   "id": "bd505f60",
   "metadata": {},
   "outputs": [
    {
     "data": {
      "text/plain": [
       "<AxesSubplot:>"
      ]
     },
     "execution_count": 35,
     "metadata": {},
     "output_type": "execute_result"
    },
    {
     "data": {
      "image/png": "[encoded data removed]",
      "text/plain": [
       "<Figure size 432x288 with 1 Axes>"
      ]
     },
     "metadata": {
      "needs_background": "light"
     },
     "output_type": "display_data"
    }
   ],
   "source": [
    "# Verificando os outliers\n",
    "\n",
    "exportacao_es_t.boxplot('KG_LIQUIDO')"
   ]
  },
  {
   "cell_type": "code",
   "execution_count": 36,
   "id": "aa532475",
   "metadata": {},
   "outputs": [
    {
     "name": "stdout",
     "output_type": "stream",
     "text": [
      "         CO_ANO  CO_MES    CO_NCM  CO_UNID  CO_PAIS SG_UF_NCM  CO_VIA  CO_URF  \\\n",
      "16297      2022       2  26011210       10      399        ES       1  727600   \n",
      "27152      2022       2  26011210       10      246        ES       1  727600   \n",
      "29898      2022       9  26011210       10      160        ES       1  727600   \n",
      "73951      2022       7  26011210       10       63        ES       1  727600   \n",
      "75233      2022       9  26011210       10      815        ES       1  727600   \n",
      "...         ...     ...       ...      ...      ...       ...     ...     ...   \n",
      "6524046    2018       4  26011210       10      249        ES       1  727600   \n",
      "6527780    2018       3  26011210       10      756        ES       1  727600   \n",
      "6529686    2018       6  26011210       10      386        ES       1  727600   \n",
      "6577414    2018       1  26011210       10      275        ES       1  727600   \n",
      "6578645    2018       6  26011210       10      756        ES       1  727600   \n",
      "\n",
      "          QT_ESTAT  KG_LIQUIDO  ...                                 NO_PPE  \\\n",
      "16297    340053000   340053000  ...  MINERIOS DE FERRO E SEUS CONCENTRADOS   \n",
      "27152    121000000   121000000  ...  MINERIOS DE FERRO E SEUS CONCENTRADOS   \n",
      "29898    132000000   132000000  ...  MINERIOS DE FERRO E SEUS CONCENTRADOS   \n",
      "73951    172727000   172727000  ...  MINERIOS DE FERRO E SEUS CONCENTRADOS   \n",
      "75233    166054000   166054000  ...  MINERIOS DE FERRO E SEUS CONCENTRADOS   \n",
      "...            ...         ...  ...                                    ...   \n",
      "6524046  341731000   341731000  ...  MINERIOS DE FERRO E SEUS CONCENTRADOS   \n",
      "6527780   50230000    50230000  ...  MINERIOS DE FERRO E SEUS CONCENTRADOS   \n",
      "6529686  241152000   241152000  ...  MINERIOS DE FERRO E SEUS CONCENTRADOS   \n",
      "6577414   77390000    77390000  ...  MINERIOS DE FERRO E SEUS CONCENTRADOS   \n",
      "6578645   50733000    50733000  ...  MINERIOS DE FERRO E SEUS CONCENTRADOS   \n",
      "\n",
      "                                    NO_PPE_MIN                     NO_PPE_ING  \\\n",
      "16297    Minérios de ferro e seus concentrados  IRON ORE AND CONCENTRATES ITS   \n",
      "27152    Minérios de ferro e seus concentrados  IRON ORE AND CONCENTRATES ITS   \n",
      "29898    Minérios de ferro e seus concentrados  IRON ORE AND CONCENTRATES ITS   \n",
      "73951    Minérios de ferro e seus concentrados  IRON ORE AND CONCENTRATES ITS   \n",
      "75233    Minérios de ferro e seus concentrados  IRON ORE AND CONCENTRATES ITS   \n",
      "...                                        ...                            ...   \n",
      "6524046  Minérios de ferro e seus concentrados  IRON ORE AND CONCENTRATES ITS   \n",
      "6527780  Minérios de ferro e seus concentrados  IRON ORE AND CONCENTRATES ITS   \n",
      "6529686  Minérios de ferro e seus concentrados  IRON ORE AND CONCENTRATES ITS   \n",
      "6577414  Minérios de ferro e seus concentrados  IRON ORE AND CONCENTRATES ITS   \n",
      "6578645  Minérios de ferro e seus concentrados  IRON ORE AND CONCENTRATES ITS   \n",
      "\n",
      "        CO_PAIS_ISON3 CO_PAIS_ISOA3            NO_PAIS          NO_PAIS_ING  \\\n",
      "16297             392           JPN              Japão                Japan   \n",
      "27152             705           SVN          Eslovênia             Slovenia   \n",
      "29898             156           CHN              China                China   \n",
      "73951              32           ARG          Argentina            Argentina   \n",
      "75233             780           TTO  Trinidad e Tobago  Trinidad and Tobago   \n",
      "...               ...           ...                ...                  ...   \n",
      "6524046           840           USA     Estados Unidos        United States   \n",
      "6527780           710           ZAF      África do Sul         South Africa   \n",
      "6529686           380           ITA             Itália                Italy   \n",
      "6577414           250           FRA             França               France   \n",
      "6578645           710           ZAF      África do Sul         South Africa   \n",
      "\n",
      "               NO_PAIS_ESP    NO_VIA date_exportacao  \n",
      "16297                Japón  MARITIMA      2022-02-01  \n",
      "27152            Eslovenia  MARITIMA      2022-02-01  \n",
      "29898                China  MARITIMA      2022-09-01  \n",
      "73951            Argentina  MARITIMA      2022-07-01  \n",
      "75233    Trinidad y Tobago  MARITIMA      2022-09-01  \n",
      "...                    ...       ...             ...  \n",
      "6524046     Estados Unidos  MARITIMA      2018-04-01  \n",
      "6527780          Sudáfrica  MARITIMA      2018-03-01  \n",
      "6529686             Italia  MARITIMA      2018-06-01  \n",
      "6577414            Francia  MARITIMA      2018-01-01  \n",
      "6578645          Sudáfrica  MARITIMA      2018-06-01  \n",
      "\n",
      "[540 rows x 23 columns]\n"
     ]
    }
   ],
   "source": [
    "print(exportacao_es_t)"
   ]
  },
  {
   "cell_type": "code",
   "execution_count": 37,
   "id": "790e771a",
   "metadata": {},
   "outputs": [
    {
     "name": "stderr",
     "output_type": "stream",
     "text": [
      "<ipython-input-37-a5c4a0b67991>:6: SettingWithCopyWarning: \n",
      "A value is trying to be set on a copy of a slice from a DataFrame\n",
      "\n",
      "See the caveats in the documentation: https://pandas.pydata.org/pandas-docs/stable/user_guide/indexing.html#returning-a-view-versus-a-copy\n",
      "  df.drop(df[df[field_name] > distance + np.percentile(df[field_name], 75)].index, inplace=True)\n",
      "<ipython-input-37-a5c4a0b67991>:7: SettingWithCopyWarning: \n",
      "A value is trying to be set on a copy of a slice from a DataFrame\n",
      "\n",
      "See the caveats in the documentation: https://pandas.pydata.org/pandas-docs/stable/user_guide/indexing.html#returning-a-view-versus-a-copy\n",
      "  df.drop(df[df[field_name] < np.percentile(df[field_name], 25) - distance].index, inplace=True)\n"
     ]
    }
   ],
   "source": [
    "# Removendo os outliers calculando o intervalo interquartil (IIQ) e os limites inferior e superior, utilizando uma constante \n",
    "# que geralmente recebe o valor 1,5.\n",
    "\n",
    "def drop_outliers(df, field_name):\n",
    "    distance = 1.5 * (np.percentile(df[field_name], 75) - np.percentile(df[field_name], 25))\n",
    "    df.drop(df[df[field_name] > distance + np.percentile(df[field_name], 75)].index, inplace=True)\n",
    "    df.drop(df[df[field_name] < np.percentile(df[field_name], 25) - distance].index, inplace=True)\n",
    "    \n",
    "drop_outliers(exportacao_es_t, \"KG_LIQUIDO\")    "
   ]
  },
  {
   "cell_type": "code",
   "execution_count": 38,
   "id": "d37b553b",
   "metadata": {},
   "outputs": [
    {
     "data": {
      "text/plain": [
       "<AxesSubplot:>"
      ]
     },
     "execution_count": 38,
     "metadata": {},
     "output_type": "execute_result"
    },
    {
     "data": {
      "image/png": "[encoded data removed]",
      "text/plain": [
       "<Figure size 432x288 with 1 Axes>"
      ]
     },
     "metadata": {
      "needs_background": "light"
     },
     "output_type": "display_data"
    }
   ],
   "source": [
    "exportacao_es_t.boxplot('KG_LIQUIDO')"
   ]
  },
  {
   "cell_type": "code",
   "execution_count": 39,
   "id": "8961e90c",
   "metadata": {},
   "outputs": [
    {
     "name": "stdout",
     "output_type": "stream",
     "text": [
      "         CO_ANO  CO_MES    CO_NCM  CO_UNID  CO_PAIS SG_UF_NCM  CO_VIA  CO_URF  \\\n",
      "16297      2022       2  26011210       10      399        ES       1  727600   \n",
      "27152      2022       2  26011210       10      246        ES       1  727600   \n",
      "29898      2022       9  26011210       10      160        ES       1  727600   \n",
      "73951      2022       7  26011210       10       63        ES       1  727600   \n",
      "75233      2022       9  26011210       10      815        ES       1  727600   \n",
      "...         ...     ...       ...      ...      ...       ...     ...     ...   \n",
      "6524046    2018       4  26011210       10      249        ES       1  727600   \n",
      "6527780    2018       3  26011210       10      756        ES       1  727600   \n",
      "6529686    2018       6  26011210       10      386        ES       1  727600   \n",
      "6577414    2018       1  26011210       10      275        ES       1  727600   \n",
      "6578645    2018       6  26011210       10      756        ES       1  727600   \n",
      "\n",
      "          QT_ESTAT  KG_LIQUIDO  ...                                 NO_PPE  \\\n",
      "16297    340053000   340053000  ...  MINERIOS DE FERRO E SEUS CONCENTRADOS   \n",
      "27152    121000000   121000000  ...  MINERIOS DE FERRO E SEUS CONCENTRADOS   \n",
      "29898    132000000   132000000  ...  MINERIOS DE FERRO E SEUS CONCENTRADOS   \n",
      "73951    172727000   172727000  ...  MINERIOS DE FERRO E SEUS CONCENTRADOS   \n",
      "75233    166054000   166054000  ...  MINERIOS DE FERRO E SEUS CONCENTRADOS   \n",
      "...            ...         ...  ...                                    ...   \n",
      "6524046  341731000   341731000  ...  MINERIOS DE FERRO E SEUS CONCENTRADOS   \n",
      "6527780   50230000    50230000  ...  MINERIOS DE FERRO E SEUS CONCENTRADOS   \n",
      "6529686  241152000   241152000  ...  MINERIOS DE FERRO E SEUS CONCENTRADOS   \n",
      "6577414   77390000    77390000  ...  MINERIOS DE FERRO E SEUS CONCENTRADOS   \n",
      "6578645   50733000    50733000  ...  MINERIOS DE FERRO E SEUS CONCENTRADOS   \n",
      "\n",
      "                                    NO_PPE_MIN                     NO_PPE_ING  \\\n",
      "16297    Minérios de ferro e seus concentrados  IRON ORE AND CONCENTRATES ITS   \n",
      "27152    Minérios de ferro e seus concentrados  IRON ORE AND CONCENTRATES ITS   \n",
      "29898    Minérios de ferro e seus concentrados  IRON ORE AND CONCENTRATES ITS   \n",
      "73951    Minérios de ferro e seus concentrados  IRON ORE AND CONCENTRATES ITS   \n",
      "75233    Minérios de ferro e seus concentrados  IRON ORE AND CONCENTRATES ITS   \n",
      "...                                        ...                            ...   \n",
      "6524046  Minérios de ferro e seus concentrados  IRON ORE AND CONCENTRATES ITS   \n",
      "6527780  Minérios de ferro e seus concentrados  IRON ORE AND CONCENTRATES ITS   \n",
      "6529686  Minérios de ferro e seus concentrados  IRON ORE AND CONCENTRATES ITS   \n",
      "6577414  Minérios de ferro e seus concentrados  IRON ORE AND CONCENTRATES ITS   \n",
      "6578645  Minérios de ferro e seus concentrados  IRON ORE AND CONCENTRATES ITS   \n",
      "\n",
      "        CO_PAIS_ISON3 CO_PAIS_ISOA3            NO_PAIS          NO_PAIS_ING  \\\n",
      "16297             392           JPN              Japão                Japan   \n",
      "27152             705           SVN          Eslovênia             Slovenia   \n",
      "29898             156           CHN              China                China   \n",
      "73951              32           ARG          Argentina            Argentina   \n",
      "75233             780           TTO  Trinidad e Tobago  Trinidad and Tobago   \n",
      "...               ...           ...                ...                  ...   \n",
      "6524046           840           USA     Estados Unidos        United States   \n",
      "6527780           710           ZAF      África do Sul         South Africa   \n",
      "6529686           380           ITA             Itália                Italy   \n",
      "6577414           250           FRA             França               France   \n",
      "6578645           710           ZAF      África do Sul         South Africa   \n",
      "\n",
      "               NO_PAIS_ESP    NO_VIA date_exportacao  \n",
      "16297                Japón  MARITIMA      2022-02-01  \n",
      "27152            Eslovenia  MARITIMA      2022-02-01  \n",
      "29898                China  MARITIMA      2022-09-01  \n",
      "73951            Argentina  MARITIMA      2022-07-01  \n",
      "75233    Trinidad y Tobago  MARITIMA      2022-09-01  \n",
      "...                    ...       ...             ...  \n",
      "6524046     Estados Unidos  MARITIMA      2018-04-01  \n",
      "6527780          Sudáfrica  MARITIMA      2018-03-01  \n",
      "6529686             Italia  MARITIMA      2018-06-01  \n",
      "6577414            Francia  MARITIMA      2018-01-01  \n",
      "6578645          Sudáfrica  MARITIMA      2018-06-01  \n",
      "\n",
      "[510 rows x 23 columns]\n"
     ]
    }
   ],
   "source": [
    "print(exportacao_es_t)"
   ]
  },
  {
   "cell_type": "code",
   "execution_count": 40,
   "id": "30f7c786",
   "metadata": {},
   "outputs": [
    {
     "name": "stdout",
     "output_type": "stream",
     "text": [
      "CO_ANO                      int64\n",
      "CO_MES                      int64\n",
      "CO_NCM                      int64\n",
      "CO_UNID                     int64\n",
      "CO_PAIS                     int64\n",
      "SG_UF_NCM                  object\n",
      "CO_VIA                      int64\n",
      "CO_URF                      int64\n",
      "QT_ESTAT                    int64\n",
      "KG_LIQUIDO                  int64\n",
      "VL_FOB                      int64\n",
      "NO_NCM_POR                 object\n",
      "CO_PPE                    float64\n",
      "NO_PPE                     object\n",
      "NO_PPE_MIN                 object\n",
      "NO_PPE_ING                 object\n",
      "CO_PAIS_ISON3               int64\n",
      "CO_PAIS_ISOA3              object\n",
      "NO_PAIS                    object\n",
      "NO_PAIS_ING                object\n",
      "NO_PAIS_ESP                object\n",
      "NO_VIA                     object\n",
      "date_exportacao    datetime64[ns]\n",
      "dtype: object\n"
     ]
    }
   ],
   "source": [
    "print(exportacao_es_t.dtypes)"
   ]
  },
  {
   "cell_type": "code",
   "execution_count": 41,
   "id": "c2b39df3",
   "metadata": {},
   "outputs": [
    {
     "name": "stderr",
     "output_type": "stream",
     "text": [
      "<ipython-input-41-5853c0b628fc>:3: SettingWithCopyWarning: \n",
      "A value is trying to be set on a copy of a slice from a DataFrame.\n",
      "Try using .loc[row_indexer,col_indexer] = value instead\n",
      "\n",
      "See the caveats in the documentation: https://pandas.pydata.org/pandas-docs/stable/user_guide/indexing.html#returning-a-view-versus-a-copy\n",
      "  exportacao_es_t['date_exportacao'] = pd.to_datetime(exportacao_es_t['CO_ANO'].astype(str) +\n"
     ]
    }
   ],
   "source": [
    "#Criando um campo data que será o indíce a ser utilizado no dataframe\n",
    "\n",
    "exportacao_es_t['date_exportacao'] = pd.to_datetime(exportacao_es_t['CO_ANO'].astype(str) + \n",
    "                                                    '-' + exportacao_es_t['CO_MES'].astype(str).str.zfill(2) + '-01')"
   ]
  },
  {
   "cell_type": "code",
   "execution_count": 42,
   "id": "b798299f",
   "metadata": {},
   "outputs": [],
   "source": [
    "#Agrupando pela quantidade\n",
    "\n",
    "exportacao_es = exportacao_es_t.groupby(['date_exportacao', 'CO_ANO', 'CO_MES', 'NO_PPE', \n",
    "                                         'SG_UF_NCM', 'NO_VIA'])['KG_LIQUIDO'].sum().sort_values(ascending=False).to_frame()\n"
   ]
  },
  {
   "cell_type": "code",
   "execution_count": 43,
   "id": "2dc278e3",
   "metadata": {},
   "outputs": [
    {
     "data": {
      "text/html": [
       "<div>\n",
       "<style scoped>\n",
       "    .dataframe tbody tr th:only-of-type {\n",
       "        vertical-align: middle;\n",
       "    }\n",
       "\n",
       "    .dataframe tbody tr th {\n",
       "        vertical-align: top;\n",
       "    }\n",
       "\n",
       "    .dataframe thead th {\n",
       "        text-align: right;\n",
       "    }\n",
       "</style>\n",
       "<table border=\"1\" class=\"dataframe\">\n",
       "  <thead>\n",
       "    <tr style=\"text-align: right;\">\n",
       "      <th></th>\n",
       "      <th>KG_LIQUIDO</th>\n",
       "    </tr>\n",
       "  </thead>\n",
       "  <tbody>\n",
       "    <tr>\n",
       "      <th>count</th>\n",
       "      <td>5.800000e+01</td>\n",
       "    </tr>\n",
       "    <tr>\n",
       "      <th>mean</th>\n",
       "      <td>1.300023e+09</td>\n",
       "    </tr>\n",
       "    <tr>\n",
       "      <th>std</th>\n",
       "      <td>5.258341e+08</td>\n",
       "    </tr>\n",
       "    <tr>\n",
       "      <th>min</th>\n",
       "      <td>3.079820e+08</td>\n",
       "    </tr>\n",
       "    <tr>\n",
       "      <th>25%</th>\n",
       "      <td>8.851119e+08</td>\n",
       "    </tr>\n",
       "    <tr>\n",
       "      <th>50%</th>\n",
       "      <td>1.307044e+09</td>\n",
       "    </tr>\n",
       "    <tr>\n",
       "      <th>75%</th>\n",
       "      <td>1.616081e+09</td>\n",
       "    </tr>\n",
       "    <tr>\n",
       "      <th>max</th>\n",
       "      <td>2.428653e+09</td>\n",
       "    </tr>\n",
       "  </tbody>\n",
       "</table>\n",
       "</div>"
      ],
      "text/plain": [
       "         KG_LIQUIDO\n",
       "count  5.800000e+01\n",
       "mean   1.300023e+09\n",
       "std    5.258341e+08\n",
       "min    3.079820e+08\n",
       "25%    8.851119e+08\n",
       "50%    1.307044e+09\n",
       "75%    1.616081e+09\n",
       "max    2.428653e+09"
      ]
     },
     "execution_count": 43,
     "metadata": {},
     "output_type": "execute_result"
    }
   ],
   "source": [
    "exportacao_es.describe()"
   ]
  },
  {
   "cell_type": "code",
   "execution_count": 44,
   "id": "49a8a323",
   "metadata": {},
   "outputs": [
    {
     "name": "stdout",
     "output_type": "stream",
     "text": [
      "                                                                                        KG_LIQUIDO\n",
      "date_exportacao CO_ANO CO_MES NO_PPE                                SG_UF_NCM NO_VIA              \n",
      "2018-11-01      2018   11     MINERIOS DE FERRO E SEUS CONCENTRADOS ES        MARITIMA  2428653000\n",
      "2018-09-01      2018   9      MINERIOS DE FERRO E SEUS CONCENTRADOS ES        MARITIMA  2414618000\n",
      "2019-01-01      2019   1      MINERIOS DE FERRO E SEUS CONCENTRADOS ES        MARITIMA  2260096000\n",
      "2018-07-01      2018   7      MINERIOS DE FERRO E SEUS CONCENTRADOS ES        MARITIMA  2196843000\n",
      "2018-05-01      2018   5      MINERIOS DE FERRO E SEUS CONCENTRADOS ES        MARITIMA  2153619388\n",
      "2018-10-01      2018   10     MINERIOS DE FERRO E SEUS CONCENTRADOS ES        MARITIMA  2119145000\n",
      "2022-09-01      2022   9      MINERIOS DE FERRO E SEUS CONCENTRADOS ES        MARITIMA  1993066000\n",
      "2019-03-01      2019   3      MINERIOS DE FERRO E SEUS CONCENTRADOS ES        MARITIMA  1912878000\n",
      "2018-08-01      2018   8      MINERIOS DE FERRO E SEUS CONCENTRADOS ES        MARITIMA  1902545000\n",
      "2022-05-01      2022   5      MINERIOS DE FERRO E SEUS CONCENTRADOS ES        MARITIMA  1860071000\n",
      "2018-12-01      2018   12     MINERIOS DE FERRO E SEUS CONCENTRADOS ES        MARITIMA  1857282000\n",
      "2018-01-01      2018   1      MINERIOS DE FERRO E SEUS CONCENTRADOS ES        MARITIMA  1801556000\n",
      "2018-02-01      2018   2      MINERIOS DE FERRO E SEUS CONCENTRADOS ES        MARITIMA  1726320000\n",
      "2021-10-01      2021   10     MINERIOS DE FERRO E SEUS CONCENTRADOS ES        MARITIMA  1633759000\n",
      "2019-12-01      2019   12     MINERIOS DE FERRO E SEUS CONCENTRADOS ES        MARITIMA  1619877000\n",
      "2022-04-01      2022   4      MINERIOS DE FERRO E SEUS CONCENTRADOS ES        MARITIMA  1604692000\n",
      "2021-06-01      2021   6      MINERIOS DE FERRO E SEUS CONCENTRADOS ES        MARITIMA  1581647000\n",
      "2019-07-01      2019   7      MINERIOS DE FERRO E SEUS CONCENTRADOS ES        MARITIMA  1573949000\n",
      "2018-06-01      2018   6      MINERIOS DE FERRO E SEUS CONCENTRADOS ES        MARITIMA  1525517000\n",
      "2022-07-01      2022   7      MINERIOS DE FERRO E SEUS CONCENTRADOS ES        MARITIMA  1497581140\n",
      "2018-03-01      2018   3      MINERIOS DE FERRO E SEUS CONCENTRADOS ES        MARITIMA  1479653186\n",
      "2019-04-01      2019   4      MINERIOS DE FERRO E SEUS CONCENTRADOS ES        MARITIMA  1446903000\n",
      "2021-03-01      2021   3      MINERIOS DE FERRO E SEUS CONCENTRADOS ES        MARITIMA  1439993000\n",
      "2019-10-01      2019   10     MINERIOS DE FERRO E SEUS CONCENTRADOS ES        MARITIMA  1431877000\n",
      "2018-04-01      2018   4      MINERIOS DE FERRO E SEUS CONCENTRADOS ES        MARITIMA  1417832000\n",
      "2019-02-01      2019   2      MINERIOS DE FERRO E SEUS CONCENTRADOS ES        MARITIMA  1396821000\n",
      "2019-08-01      2019   8      MINERIOS DE FERRO E SEUS CONCENTRADOS ES        MARITIMA  1359944000\n",
      "2021-12-01      2021   12     MINERIOS DE FERRO E SEUS CONCENTRADOS ES        MARITIMA  1356331000\n",
      "2021-04-01      2021   4      MINERIOS DE FERRO E SEUS CONCENTRADOS ES        MARITIMA  1320793000\n",
      "2022-02-01      2022   2      MINERIOS DE FERRO E SEUS CONCENTRADOS ES        MARITIMA  1293294000\n",
      "2019-09-01      2019   9      MINERIOS DE FERRO E SEUS CONCENTRADOS ES        MARITIMA  1224776000\n",
      "2020-10-01      2020   10     MINERIOS DE FERRO E SEUS CONCENTRADOS ES        MARITIMA  1210852000\n",
      "2020-01-01      2020   1      MINERIOS DE FERRO E SEUS CONCENTRADOS ES        MARITIMA  1183702440\n",
      "2021-05-01      2021   5      MINERIOS DE FERRO E SEUS CONCENTRADOS ES        MARITIMA  1108281000\n",
      "2019-06-01      2019   6      MINERIOS DE FERRO E SEUS CONCENTRADOS ES        MARITIMA  1083061000\n",
      "2021-09-01      2021   9      MINERIOS DE FERRO E SEUS CONCENTRADOS ES        MARITIMA  1033578000\n",
      "2019-05-01      2019   5      MINERIOS DE FERRO E SEUS CONCENTRADOS ES        MARITIMA  1029873000\n",
      "2019-11-01      2019   11     MINERIOS DE FERRO E SEUS CONCENTRADOS ES        MARITIMA   996533000\n",
      "2022-03-01      2022   3      MINERIOS DE FERRO E SEUS CONCENTRADOS ES        MARITIMA   990745000\n",
      "2022-01-01      2022   1      MINERIOS DE FERRO E SEUS CONCENTRADOS ES        MARITIMA   968877000\n",
      "2022-10-01      2022   10     MINERIOS DE FERRO E SEUS CONCENTRADOS ES        MARITIMA   952096992\n",
      "2020-09-01      2020   9      MINERIOS DE FERRO E SEUS CONCENTRADOS ES        MARITIMA   926763000\n",
      "2022-06-01      2022   6      MINERIOS DE FERRO E SEUS CONCENTRADOS ES        MARITIMA   908688500\n",
      "2021-11-01      2021   11     MINERIOS DE FERRO E SEUS CONCENTRADOS ES        MARITIMA   877253040\n",
      "2020-07-01      2020   7      MINERIOS DE FERRO E SEUS CONCENTRADOS ES        MARITIMA   848201000\n",
      "2020-08-01      2020   8      MINERIOS DE FERRO E SEUS CONCENTRADOS ES        MARITIMA   808019000\n",
      "2020-12-01      2020   12     MINERIOS DE FERRO E SEUS CONCENTRADOS ES        MARITIMA   799482001\n",
      "2021-08-01      2021   8      MINERIOS DE FERRO E SEUS CONCENTRADOS ES        MARITIMA   781523000\n",
      "2022-08-01      2022   8      MINERIOS DE FERRO E SEUS CONCENTRADOS ES        MARITIMA   778671000\n",
      "2020-04-01      2020   4      MINERIOS DE FERRO E SEUS CONCENTRADOS ES        MARITIMA   748564000\n",
      "2021-07-01      2021   7      MINERIOS DE FERRO E SEUS CONCENTRADOS ES        MARITIMA   726757000\n",
      "2020-02-01      2020   2      MINERIOS DE FERRO E SEUS CONCENTRADOS ES        MARITIMA   708822000\n",
      "2020-03-01      2020   3      MINERIOS DE FERRO E SEUS CONCENTRADOS ES        MARITIMA   698259000\n",
      "2021-01-01      2021   1      MINERIOS DE FERRO E SEUS CONCENTRADOS ES        MARITIMA   676064000\n",
      "2021-02-01      2021   2      MINERIOS DE FERRO E SEUS CONCENTRADOS ES        MARITIMA   568522000\n",
      "2020-06-01      2020   6      MINERIOS DE FERRO E SEUS CONCENTRADOS ES        MARITIMA   446607000\n",
      "2020-11-01      2020   11     MINERIOS DE FERRO E SEUS CONCENTRADOS ES        MARITIMA   401619000\n",
      "2020-05-01      2020   5      MINERIOS DE FERRO E SEUS CONCENTRADOS ES        MARITIMA   307982000\n"
     ]
    }
   ],
   "source": [
    "print(exportacao_es)"
   ]
  },
  {
   "cell_type": "code",
   "execution_count": 45,
   "id": "405a8520",
   "metadata": {},
   "outputs": [
    {
     "name": "stdout",
     "output_type": "stream",
     "text": [
      "KG_LIQUIDO    int64\n",
      "dtype: object\n"
     ]
    }
   ],
   "source": [
    "print(exportacao_es.dtypes)"
   ]
  },
  {
   "cell_type": "code",
   "execution_count": 46,
   "id": "4d6e8b95",
   "metadata": {},
   "outputs": [],
   "source": [
    "exportacao_es = exportacao_es.sort_values(by=\"date_exportacao\")"
   ]
  },
  {
   "cell_type": "code",
   "execution_count": 47,
   "id": "2bcff539",
   "metadata": {},
   "outputs": [],
   "source": [
    "exportacao_es = exportacao_es.groupby(['date_exportacao']).KG_LIQUIDO.sum()"
   ]
  },
  {
   "cell_type": "code",
   "execution_count": 48,
   "id": "19726a1d",
   "metadata": {},
   "outputs": [
    {
     "data": {
      "text/plain": [
       "count    5.800000e+01\n",
       "mean     1.300023e+09\n",
       "std      5.258341e+08\n",
       "min      3.079820e+08\n",
       "25%      8.851119e+08\n",
       "50%      1.307044e+09\n",
       "75%      1.616081e+09\n",
       "max      2.428653e+09\n",
       "Name: KG_LIQUIDO, dtype: float64"
      ]
     },
     "execution_count": 48,
     "metadata": {},
     "output_type": "execute_result"
    }
   ],
   "source": [
    "exportacao_es.describe()"
   ]
  },
  {
   "cell_type": "code",
   "execution_count": 49,
   "id": "7d757db0",
   "metadata": {},
   "outputs": [
    {
     "data": {
      "text/plain": [
       "date_exportacao\n",
       "2018-01-01    1801556000\n",
       "2018-02-01    1726320000\n",
       "2018-03-01    1479653186\n",
       "2018-04-01    1417832000\n",
       "2018-05-01    2153619388\n",
       "2018-06-01    1525517000\n",
       "2018-07-01    2196843000\n",
       "2018-08-01    1902545000\n",
       "2018-09-01    2414618000\n",
       "2018-10-01    2119145000\n",
       "2018-11-01    2428653000\n",
       "2018-12-01    1857282000\n",
       "2019-01-01    2260096000\n",
       "2019-02-01    1396821000\n",
       "2019-03-01    1912878000\n",
       "2019-04-01    1446903000\n",
       "2019-05-01    1029873000\n",
       "2019-06-01    1083061000\n",
       "2019-07-01    1573949000\n",
       "2019-08-01    1359944000\n",
       "2019-09-01    1224776000\n",
       "2019-10-01    1431877000\n",
       "2019-11-01     996533000\n",
       "2019-12-01    1619877000\n",
       "2020-01-01    1183702440\n",
       "2020-02-01     708822000\n",
       "2020-03-01     698259000\n",
       "2020-04-01     748564000\n",
       "2020-05-01     307982000\n",
       "2020-06-01     446607000\n",
       "2020-07-01     848201000\n",
       "2020-08-01     808019000\n",
       "2020-09-01     926763000\n",
       "2020-10-01    1210852000\n",
       "2020-11-01     401619000\n",
       "2020-12-01     799482001\n",
       "2021-01-01     676064000\n",
       "2021-02-01     568522000\n",
       "2021-03-01    1439993000\n",
       "2021-04-01    1320793000\n",
       "2021-05-01    1108281000\n",
       "2021-06-01    1581647000\n",
       "2021-07-01     726757000\n",
       "2021-08-01     781523000\n",
       "2021-09-01    1033578000\n",
       "2021-10-01    1633759000\n",
       "2021-11-01     877253040\n",
       "2021-12-01    1356331000\n",
       "2022-01-01     968877000\n",
       "2022-02-01    1293294000\n",
       "2022-03-01     990745000\n",
       "2022-04-01    1604692000\n",
       "2022-05-01    1860071000\n",
       "2022-06-01     908688500\n",
       "2022-07-01    1497581140\n",
       "2022-08-01     778671000\n",
       "2022-09-01    1993066000\n",
       "2022-10-01     952096992\n",
       "Name: KG_LIQUIDO, dtype: int64"
      ]
     },
     "execution_count": 49,
     "metadata": {},
     "output_type": "execute_result"
    }
   ],
   "source": [
    "exportacao_es"
   ]
  },
  {
   "cell_type": "code",
   "execution_count": 50,
   "id": "1f238ab8",
   "metadata": {},
   "outputs": [],
   "source": [
    "exportacao_es_prophet = exportacao_es.reset_index(name='y')\n",
    "exportacao_es_prophet.rename(columns={'date_exportacao': 'ds'}, inplace=True)"
   ]
  },
  {
   "cell_type": "code",
   "execution_count": 51,
   "id": "abf3deb6",
   "metadata": {},
   "outputs": [
    {
     "name": "stdout",
     "output_type": "stream",
     "text": [
      "           ds           y\n",
      "0  2018-01-01  1801556000\n",
      "1  2018-02-01  1726320000\n",
      "2  2018-03-01  1479653186\n",
      "3  2018-04-01  1417832000\n",
      "4  2018-05-01  2153619388\n",
      "5  2018-06-01  1525517000\n",
      "6  2018-07-01  2196843000\n",
      "7  2018-08-01  1902545000\n",
      "8  2018-09-01  2414618000\n",
      "9  2018-10-01  2119145000\n",
      "10 2018-11-01  2428653000\n",
      "11 2018-12-01  1857282000\n",
      "12 2019-01-01  2260096000\n",
      "13 2019-02-01  1396821000\n",
      "14 2019-03-01  1912878000\n",
      "15 2019-04-01  1446903000\n",
      "16 2019-05-01  1029873000\n",
      "17 2019-06-01  1083061000\n",
      "18 2019-07-01  1573949000\n",
      "19 2019-08-01  1359944000\n",
      "20 2019-09-01  1224776000\n",
      "21 2019-10-01  1431877000\n",
      "22 2019-11-01   996533000\n",
      "23 2019-12-01  1619877000\n",
      "24 2020-01-01  1183702440\n",
      "25 2020-02-01   708822000\n",
      "26 2020-03-01   698259000\n",
      "27 2020-04-01   748564000\n",
      "28 2020-05-01   307982000\n",
      "29 2020-06-01   446607000\n",
      "30 2020-07-01   848201000\n",
      "31 2020-08-01   808019000\n",
      "32 2020-09-01   926763000\n",
      "33 2020-10-01  1210852000\n",
      "34 2020-11-01   401619000\n",
      "35 2020-12-01   799482001\n",
      "36 2021-01-01   676064000\n",
      "37 2021-02-01   568522000\n",
      "38 2021-03-01  1439993000\n",
      "39 2021-04-01  1320793000\n",
      "40 2021-05-01  1108281000\n",
      "41 2021-06-01  1581647000\n",
      "42 2021-07-01   726757000\n",
      "43 2021-08-01   781523000\n",
      "44 2021-09-01  1033578000\n",
      "45 2021-10-01  1633759000\n",
      "46 2021-11-01   877253040\n",
      "47 2021-12-01  1356331000\n",
      "48 2022-01-01   968877000\n",
      "49 2022-02-01  1293294000\n",
      "50 2022-03-01   990745000\n",
      "51 2022-04-01  1604692000\n",
      "52 2022-05-01  1860071000\n",
      "53 2022-06-01   908688500\n",
      "54 2022-07-01  1497581140\n",
      "55 2022-08-01   778671000\n",
      "56 2022-09-01  1993066000\n",
      "57 2022-10-01   952096992\n"
     ]
    }
   ],
   "source": [
    "print(exportacao_es_prophet)"
   ]
  },
  {
   "cell_type": "code",
   "execution_count": 52,
   "id": "dfedb9dd",
   "metadata": {},
   "outputs": [
    {
     "data": {
      "text/plain": [
       "Text(0, 0.5, 'KG_LIQUIDO')"
      ]
     },
     "execution_count": 52,
     "metadata": {},
     "output_type": "execute_result"
    },
    {
     "data": {
      "image/png": "[encoded data removed]",
      "text/plain": [
       "<Figure size 720x432 with 1 Axes>"
      ]
     },
     "metadata": {
      "needs_background": "light"
     },
     "output_type": "display_data"
    }
   ],
   "source": [
    "exportacao_es.plot(figsize=(10,6))\n",
    "plt.xlabel('date_export')\n",
    "plt.ylabel('KG_LIQUIDO')"
   ]
  },
  {
   "cell_type": "code",
   "execution_count": 53,
   "id": "b97e8ec2",
   "metadata": {},
   "outputs": [
    {
     "data": {
      "text/plain": [
       "<Figure size 7200x1440 with 0 Axes>"
      ]
     },
     "metadata": {},
     "output_type": "display_data"
    },
    {
     "data": {
      "image/png": "[encoded data removed]",
      "text/plain": [
       "<Figure size 432x288 with 4 Axes>"
      ]
     },
     "metadata": {
      "needs_background": "light"
     },
     "output_type": "display_data"
    }
   ],
   "source": [
    "from statsmodels.tsa.seasonal import seasonal_decompose\n",
    "\n",
    "resultado_decom = seasonal_decompose(exportacao_es, period=12, extrapolate_trend=5)\n",
    "\n",
    "fig = plt.figure(figsize=(100,20))\n",
    "fig = resultado_decom.plot()"
   ]
  },
  {
   "cell_type": "code",
   "execution_count": 54,
   "id": "a418f0eb",
   "metadata": {},
   "outputs": [
    {
     "data": {
      "image/png": "[encoded data removed]",
      "text/plain": [
       "<Figure size 432x288 with 1 Axes>"
      ]
     },
     "metadata": {
      "needs_background": "light"
     },
     "output_type": "display_data"
    }
   ],
   "source": [
    "# Plotando gráfico: Total de recebimentos x Ano\n",
    "ax = exportacao_es.plot(kind='bar',color='lightblue',title='Total de Exportação x Ano')\n",
    "\n",
    "ax.set_ylabel('Total em Bilhões')\n",
    "ax.set_xlabel('Ano')\n",
    "\n",
    "plt.show()"
   ]
  },
  {
   "cell_type": "code",
   "execution_count": 55,
   "id": "61b4fc63",
   "metadata": {},
   "outputs": [
    {
     "name": "stdout",
     "output_type": "stream",
     "text": [
      "Performing stepwise search to minimize aic\n",
      " ARIMA(1,1,1)(1,1,1)[6]             : AIC=2187.087, Time=0.25 sec\n",
      " ARIMA(0,1,0)(0,1,0)[6]             : AIC=2213.424, Time=0.02 sec\n",
      " ARIMA(1,1,0)(1,1,0)[6]             : AIC=2190.490, Time=0.05 sec\n",
      " ARIMA(0,1,1)(0,1,1)[6]             : AIC=2192.413, Time=0.06 sec\n",
      " ARIMA(1,1,1)(0,1,1)[6]             : AIC=2185.634, Time=0.10 sec\n",
      " ARIMA(1,1,1)(0,1,0)[6]             : AIC=2195.868, Time=0.05 sec\n",
      " ARIMA(1,1,1)(0,1,2)[6]             : AIC=2186.518, Time=0.26 sec\n",
      " ARIMA(1,1,1)(1,1,0)[6]             : AIC=2192.107, Time=0.06 sec\n",
      " ARIMA(1,1,1)(1,1,2)[6]             : AIC=2184.888, Time=0.21 sec\n",
      " ARIMA(1,1,1)(2,1,2)[6]             : AIC=2186.398, Time=0.19 sec\n",
      " ARIMA(1,1,1)(2,1,1)[6]             : AIC=2185.460, Time=0.15 sec\n",
      " ARIMA(0,1,1)(1,1,2)[6]             : AIC=2193.362, Time=0.17 sec\n",
      " ARIMA(1,1,0)(1,1,2)[6]             : AIC=2183.359, Time=0.19 sec\n",
      " ARIMA(1,1,0)(0,1,2)[6]             : AIC=2184.980, Time=0.24 sec\n",
      " ARIMA(1,1,0)(1,1,1)[6]             : AIC=2185.492, Time=0.11 sec\n",
      " ARIMA(1,1,0)(2,1,2)[6]             : AIC=2184.908, Time=0.16 sec\n",
      " ARIMA(1,1,0)(0,1,1)[6]             : AIC=2184.021, Time=0.06 sec\n",
      " ARIMA(1,1,0)(2,1,1)[6]             : AIC=2183.974, Time=0.13 sec\n",
      " ARIMA(0,1,0)(1,1,2)[6]             : AIC=2219.287, Time=0.14 sec\n",
      " ARIMA(2,1,0)(1,1,2)[6]             : AIC=2184.906, Time=0.21 sec\n",
      " ARIMA(2,1,1)(1,1,2)[6]             : AIC=2186.513, Time=0.36 sec\n",
      " ARIMA(1,1,0)(1,1,2)[6] intercept   : AIC=2185.170, Time=0.21 sec\n",
      "\n",
      "Best model:  ARIMA(1,1,0)(1,1,2)[6]          \n",
      "Total fit time: 3.390 seconds\n"
     ]
    }
   ],
   "source": [
    "# \n",
    "\n",
    "from pmdarima import auto_arima\n",
    "\n",
    "fit_arima = auto_arima(exportacao_es, d=1, start_p=1, start_q=1, max_p=3, max_q=3,\n",
    "                      seasonal=True,\n",
    "                      m=6,\n",
    "                      D=1,\n",
    "                      start_P=1,\n",
    "                      start_Q=1,\n",
    "                      max_P=2,\n",
    "                      max_Q=2,\n",
    "                      information_criterion='aic',\n",
    "                      trace=True,\n",
    "                      error_action='ignore',\n",
    "                      stewise=True)"
   ]
  },
  {
   "cell_type": "code",
   "execution_count": null,
   "id": "8afabc62",
   "metadata": {},
   "outputs": [],
   "source": []
  },
  {
   "cell_type": "code",
   "execution_count": 56,
   "id": "92579641",
   "metadata": {},
   "outputs": [
    {
     "name": "stderr",
     "output_type": "stream",
     "text": [
      "C:\\Anaconda3\\lib\\site-packages\\statsmodels\\tsa\\base\\tsa_model.py:471: ValueWarning: No frequency information was provided, so inferred frequency MS will be used.\n",
      "  self._init_dates(dates, freq)\n",
      "C:\\Anaconda3\\lib\\site-packages\\statsmodels\\tsa\\base\\tsa_model.py:471: ValueWarning: No frequency information was provided, so inferred frequency MS will be used.\n",
      "  self._init_dates(dates, freq)\n"
     ]
    },
    {
     "data": {
      "text/html": [
       "<table class=\"simpletable\">\n",
       "<caption>SARIMAX Results</caption>\n",
       "<tr>\n",
       "  <th>Dep. Variable:</th>               <td>KG_LIQUIDO</td>             <th>  No. Observations:  </th>    <td>58</td>    \n",
       "</tr>\n",
       "<tr>\n",
       "  <th>Model:</th>           <td>SARIMAX(1, 1, 0)x(1, 1, [1, 2], 6)</td> <th>  Log Likelihood     </th> <td>-1086.679</td>\n",
       "</tr>\n",
       "<tr>\n",
       "  <th>Date:</th>                     <td>Fri, 07 Apr 2023</td>          <th>  AIC                </th> <td>2183.359</td> \n",
       "</tr>\n",
       "<tr>\n",
       "  <th>Time:</th>                         <td>21:54:58</td>              <th>  BIC                </th> <td>2193.018</td> \n",
       "</tr>\n",
       "<tr>\n",
       "  <th>Sample:</th>                      <td>01-01-2018</td>             <th>  HQIC               </th> <td>2187.050</td> \n",
       "</tr>\n",
       "<tr>\n",
       "  <th></th>                            <td>- 10-01-2022</td>            <th>                     </th>     <td> </td>    \n",
       "</tr>\n",
       "<tr>\n",
       "  <th>Covariance Type:</th>                 <td>opg</td>                <th>                     </th>     <td> </td>    \n",
       "</tr>\n",
       "</table>\n",
       "<table class=\"simpletable\">\n",
       "<tr>\n",
       "      <td></td>        <th>coef</th>     <th>std err</th>      <th>z</th>      <th>P>|z|</th>  <th>[0.025</th>    <th>0.975]</th>  \n",
       "</tr>\n",
       "<tr>\n",
       "  <th>ar.L1</th>    <td>   -0.6480</td> <td>    0.186</td> <td>   -3.475</td> <td> 0.001</td> <td>   -1.014</td> <td>   -0.283</td>\n",
       "</tr>\n",
       "<tr>\n",
       "  <th>ar.S.L6</th>  <td>   -0.5802</td> <td>    0.458</td> <td>   -1.268</td> <td> 0.205</td> <td>   -1.477</td> <td>    0.317</td>\n",
       "</tr>\n",
       "<tr>\n",
       "  <th>ma.S.L6</th>  <td>    0.1785</td> <td>    0.654</td> <td>    0.273</td> <td> 0.785</td> <td>   -1.103</td> <td>    1.460</td>\n",
       "</tr>\n",
       "<tr>\n",
       "  <th>ma.S.L12</th> <td>   -0.6038</td> <td>    0.341</td> <td>   -1.771</td> <td> 0.077</td> <td>   -1.272</td> <td>    0.065</td>\n",
       "</tr>\n",
       "<tr>\n",
       "  <th>sigma2</th>   <td> 2.498e+17</td> <td> 2.53e-18</td> <td> 9.86e+34</td> <td> 0.000</td> <td>  2.5e+17</td> <td>  2.5e+17</td>\n",
       "</tr>\n",
       "</table>\n",
       "<table class=\"simpletable\">\n",
       "<tr>\n",
       "  <th>Ljung-Box (L1) (Q):</th>     <td>0.14</td> <th>  Jarque-Bera (JB):  </th> <td>1.17</td>\n",
       "</tr>\n",
       "<tr>\n",
       "  <th>Prob(Q):</th>                <td>0.71</td> <th>  Prob(JB):          </th> <td>0.56</td>\n",
       "</tr>\n",
       "<tr>\n",
       "  <th>Heteroskedasticity (H):</th> <td>1.50</td> <th>  Skew:              </th> <td>0.37</td>\n",
       "</tr>\n",
       "<tr>\n",
       "  <th>Prob(H) (two-sided):</th>    <td>0.41</td> <th>  Kurtosis:          </th> <td>3.02</td>\n",
       "</tr>\n",
       "</table><br/><br/>Warnings:<br/>[1] Covariance matrix calculated using the outer product of gradients (complex-step).<br/>[2] Covariance matrix is singular or near-singular, with condition number 9.97e+50. Standard errors may be unstable."
      ],
      "text/plain": [
       "<class 'statsmodels.iolib.summary.Summary'>\n",
       "\"\"\"\n",
       "                                       SARIMAX Results                                        \n",
       "==============================================================================================\n",
       "Dep. Variable:                             KG_LIQUIDO   No. Observations:                   58\n",
       "Model:             SARIMAX(1, 1, 0)x(1, 1, [1, 2], 6)   Log Likelihood               -1086.679\n",
       "Date:                                Fri, 07 Apr 2023   AIC                           2183.359\n",
       "Time:                                        21:54:58   BIC                           2193.018\n",
       "Sample:                                    01-01-2018   HQIC                          2187.050\n",
       "                                         - 10-01-2022                                         \n",
       "Covariance Type:                                  opg                                         \n",
       "==============================================================================\n",
       "                 coef    std err          z      P>|z|      [0.025      0.975]\n",
       "------------------------------------------------------------------------------\n",
       "ar.L1         -0.6480      0.186     -3.475      0.001      -1.014      -0.283\n",
       "ar.S.L6       -0.5802      0.458     -1.268      0.205      -1.477       0.317\n",
       "ma.S.L6        0.1785      0.654      0.273      0.785      -1.103       1.460\n",
       "ma.S.L12      -0.6038      0.341     -1.771      0.077      -1.272       0.065\n",
       "sigma2      2.498e+17   2.53e-18   9.86e+34      0.000     2.5e+17     2.5e+17\n",
       "===================================================================================\n",
       "Ljung-Box (L1) (Q):                   0.14   Jarque-Bera (JB):                 1.17\n",
       "Prob(Q):                              0.71   Prob(JB):                         0.56\n",
       "Heteroskedasticity (H):               1.50   Skew:                             0.37\n",
       "Prob(H) (two-sided):                  0.41   Kurtosis:                         3.02\n",
       "===================================================================================\n",
       "\n",
       "Warnings:\n",
       "[1] Covariance matrix calculated using the outer product of gradients (complex-step).\n",
       "[2] Covariance matrix is singular or near-singular, with condition number 9.97e+50. Standard errors may be unstable.\n",
       "\"\"\""
      ]
     },
     "execution_count": 56,
     "metadata": {},
     "output_type": "execute_result"
    }
   ],
   "source": [
    "modelo = SARIMAX(exportacao_es, \n",
    "                 order=(1,1,0),\n",
    "                 enforce_invertibility=False, \n",
    "                 enforce_stationarity=True, \n",
    "                 seasonal_order=(1,1,2,6))\n",
    "\n",
    "resultado = modelo.fit()\n",
    "\n",
    "resultado.summary()"
   ]
  },
  {
   "cell_type": "code",
   "execution_count": 57,
   "id": "f9f46a34",
   "metadata": {},
   "outputs": [
    {
     "data": {
      "image/png": "[encoded data removed]",
      "text/plain": [
       "<Figure size 1080x864 with 4 Axes>"
      ]
     },
     "metadata": {
      "needs_background": "light"
     },
     "output_type": "display_data"
    }
   ],
   "source": [
    "resultado.plot_diagnostics(figsize=(15, 12))\n",
    "plt.show()"
   ]
  },
  {
   "cell_type": "code",
   "execution_count": 58,
   "id": "c1ba712e",
   "metadata": {},
   "outputs": [
    {
     "name": "stdout",
     "output_type": "stream",
     "text": [
      "2019-01-01    2.541935e+09\n",
      "2019-02-01    2.083937e+09\n",
      "2019-03-01    2.148766e+09\n",
      "2019-04-01    1.618223e+09\n",
      "2019-05-01    1.792862e+09\n",
      "2019-06-01    1.106442e+09\n",
      "2019-07-01    1.706824e+09\n",
      "2019-08-01    1.291404e+09\n",
      "2019-09-01    1.341112e+09\n",
      "2019-10-01    1.196331e+09\n",
      "2019-11-01    1.047065e+09\n",
      "2019-12-01    1.193276e+09\n",
      "2020-01-01    1.593136e+09\n",
      "2020-02-01    1.556751e+09\n",
      "2020-03-01    9.894662e+08\n",
      "2020-04-01    8.136624e+08\n",
      "2020-05-01    5.921782e+08\n",
      "2020-06-01    6.939485e+08\n",
      "2020-07-01    6.570005e+08\n",
      "2020-08-01    1.493127e+08\n",
      "2020-09-01    5.605438e+08\n",
      "2020-10-01    7.911513e+08\n",
      "2020-11-01    6.664868e+08\n",
      "2020-12-01    7.737616e+08\n",
      "2021-01-01    9.991704e+08\n",
      "2021-02-01    1.016508e+09\n",
      "2021-03-01    7.243244e+08\n",
      "2021-04-01    1.160314e+09\n",
      "2021-05-01    1.021444e+09\n",
      "2021-06-01    1.257340e+09\n",
      "2021-07-01    1.450126e+09\n",
      "2021-08-01    8.669993e+08\n",
      "2021-09-01    1.042723e+09\n",
      "2021-10-01    1.046854e+09\n",
      "2021-11-01    9.316026e+08\n",
      "2021-12-01    1.473573e+09\n",
      "2022-01-01    9.625944e+08\n",
      "2022-02-01    1.153913e+09\n",
      "2022-03-01    1.240971e+09\n",
      "2022-04-01    1.770328e+09\n",
      "2022-05-01    8.234294e+08\n",
      "2022-06-01    1.671418e+09\n",
      "2022-07-01    1.606730e+09\n",
      "2022-08-01    9.320286e+08\n",
      "2022-09-01    1.335024e+09\n",
      "2022-10-01    1.445968e+09\n",
      "Freq: MS, Name: predicted_mean, dtype: float64\n"
     ]
    }
   ],
   "source": [
    "predicoes = resultado.get_prediction(start=12)\n",
    "\n",
    "predicao_media = predicoes.predicted_mean\n",
    "\n",
    "print(predicao_media)"
   ]
  },
  {
   "cell_type": "code",
   "execution_count": 59,
   "id": "f95764eb",
   "metadata": {},
   "outputs": [],
   "source": [
    "datas_previsao = np.asarray(predicao_media.index)\n",
    "datas = np.asarray(exportacao_es.index)"
   ]
  },
  {
   "cell_type": "code",
   "execution_count": 60,
   "id": "304fc9fa",
   "metadata": {},
   "outputs": [
    {
     "data": {
      "image/png": "[encoded data removed]",
      "text/plain": [
       "<Figure size 720x432 with 1 Axes>"
      ]
     },
     "metadata": {
      "needs_background": "light"
     },
     "output_type": "display_data"
    }
   ],
   "source": [
    "plt.figure(figsize=(10,6))\n",
    "plt.plot(datas_previsao, predicao_media.values, color='red', label='prediction')\n",
    "plt.plot(datas, exportacao_es.values, label='real')\n",
    "plt.legend()\n",
    "plt.show()"
   ]
  },
  {
   "cell_type": "code",
   "execution_count": 61,
   "id": "323d8870",
   "metadata": {},
   "outputs": [
    {
     "name": "stdout",
     "output_type": "stream",
     "text": [
      "411521808.5399549\n"
     ]
    }
   ],
   "source": [
    "#Calculo RMSE SARIMA\n",
    "\n",
    "from sklearn.metrics import mean_squared_error\n",
    "from math import sqrt\n",
    "\n",
    "rmse_sarima = sqrt(mean_squared_error(exportacao_es[-46:].values, predicao_media.values))\n",
    "\n",
    "print(rmse_sarima)"
   ]
  },
  {
   "cell_type": "code",
   "execution_count": 62,
   "id": "29006298",
   "metadata": {},
   "outputs": [
    {
     "data": {
      "text/plain": [
       "12"
      ]
     },
     "execution_count": 62,
     "metadata": {},
     "output_type": "execute_result"
    }
   ],
   "source": [
    "forecast = resultado.get_forecast(steps=12)\n",
    "\n",
    "forecast_medio = forecast.predicted_mean\n",
    "\n",
    "forecast_medio.size"
   ]
  },
  {
   "cell_type": "code",
   "execution_count": 63,
   "id": "d83eabde",
   "metadata": {},
   "outputs": [
    {
     "data": {
      "text/plain": [
       "1898869710.8233848"
      ]
     },
     "execution_count": 63,
     "metadata": {},
     "output_type": "execute_result"
    }
   ],
   "source": [
    "forecast_medio[0]"
   ]
  },
  {
   "cell_type": "code",
   "execution_count": 64,
   "id": "b4292997",
   "metadata": {},
   "outputs": [],
   "source": [
    "datas_forecast = np.asarray(forecast_medio.index)\n",
    "datas = np.asarray(exportacao_es.index)\n",
    "\n",
    "datas_previsao = np.asarray(predicao_media.index)"
   ]
  },
  {
   "cell_type": "code",
   "execution_count": 65,
   "id": "f4ca4853",
   "metadata": {},
   "outputs": [
    {
     "data": {
      "image/png": "[encoded data removed]",
      "text/plain": [
       "<Figure size 720x432 with 1 Axes>"
      ]
     },
     "metadata": {
      "needs_background": "light"
     },
     "output_type": "display_data"
    }
   ],
   "source": [
    "plt.figure(figsize=(10,6))\n",
    "plt.plot(datas_forecast, forecast_medio.values, color='green', label='forecast')\n",
    "plt.plot(datas_previsao, predicao_media.values, color='red', label='prediction')\n",
    "plt.plot(datas, exportacao_es.values, label='real')\n",
    "plt.legend(loc='upper left')\n",
    "plt.show()"
   ]
  },
  {
   "cell_type": "code",
   "execution_count": 66,
   "id": "281f87c5",
   "metadata": {},
   "outputs": [
    {
     "name": "stderr",
     "output_type": "stream",
     "text": [
      "21:55:07 - cmdstanpy - INFO - Chain [1] start processing\n",
      "21:55:09 - cmdstanpy - INFO - Chain [1] done processing\n"
     ]
    },
    {
     "data": {
      "text/plain": [
       "<prophet.forecaster.Prophet at 0x13f840336d0>"
      ]
     },
     "execution_count": 66,
     "metadata": {},
     "output_type": "execute_result"
    }
   ],
   "source": [
    "# Utilizando o Prophet\n",
    "from sklearn.model_selection import train_test_split\n",
    "\n",
    "exportacao_es_prophet = exportacao_es.reset_index(name='y')\n",
    "exportacao_es_prophet.rename(columns={'date_exportacao': 'ds'}, inplace=True)\n",
    "\n",
    "train_data_prophet, test_data_prophet = train_test_split(exportacao_es_prophet, test_size=0.2, shuffle=False)\n",
    "\n",
    "model_prophet = Prophet()\n",
    "model_prophet.fit(train_data_prophet)"
   ]
  },
  {
   "cell_type": "code",
   "execution_count": 67,
   "id": "42f265f6",
   "metadata": {},
   "outputs": [
    {
     "name": "stderr",
     "output_type": "stream",
     "text": [
      "<ipython-input-67-9b44d2854f05>:4: UserWarning: Matplotlib is currently using module://ipykernel.pylab.backend_inline, which is a non-GUI backend, so cannot show the figure.\n",
      "  fig.show()\n"
     ]
    },
    {
     "data": {
      "image/png": "[encoded data removed]",
      "text/plain": [
       "<Figure size 720x432 with 1 Axes>"
      ]
     },
     "metadata": {},
     "output_type": "display_data"
    }
   ],
   "source": [
    "future_prophet = model_prophet.make_future_dataframe(periods=len(test_data_prophet))\n",
    "forecast_prophet = model_prophet.predict(future_prophet)\n",
    "fig = model_prophet.plot(forecast_prophet)\n",
    "fig.show()\n",
    "\n"
   ]
  },
  {
   "cell_type": "code",
   "execution_count": 68,
   "id": "54176fc3",
   "metadata": {},
   "outputs": [
    {
     "name": "stdout",
     "output_type": "stream",
     "text": [
      "Prophet RMSE: 1943965158.241321\n"
     ]
    }
   ],
   "source": [
    "# Calculando o RMSE Prophet\n",
    "rmse_prophet = mean_squared_error(exportacao_es_prophet['y'], forecast_prophet['yhat'], squared=False)\n",
    "\n",
    "print(\"Prophet RMSE:\", rmse_prophet)"
   ]
  },
  {
   "cell_type": "code",
   "execution_count": 69,
   "id": "291fbbb2",
   "metadata": {
    "scrolled": true
   },
   "outputs": [
    {
     "name": "stdout",
     "output_type": "stream",
     "text": [
      "Performing stepwise search to minimize aic\n",
      " ARIMA(1,1,1)(1,0,1)[12] intercept   : AIC=2432.304, Time=0.41 sec\n",
      " ARIMA(0,1,0)(0,0,0)[12] intercept   : AIC=2450.748, Time=0.02 sec\n",
      " ARIMA(1,1,0)(1,0,0)[12] intercept   : AIC=2431.230, Time=0.06 sec\n",
      " ARIMA(0,1,1)(0,0,1)[12] intercept   : AIC=2431.865, Time=0.05 sec\n",
      " ARIMA(0,1,0)(0,0,0)[12]             : AIC=2448.806, Time=0.02 sec\n",
      " ARIMA(1,1,0)(0,0,0)[12] intercept   : AIC=2429.360, Time=0.03 sec\n",
      " ARIMA(1,1,0)(0,0,1)[12] intercept   : AIC=2431.166, Time=0.05 sec\n",
      " ARIMA(1,1,0)(1,0,1)[12] intercept   : AIC=2433.135, Time=0.10 sec\n",
      " ARIMA(2,1,0)(0,0,0)[12] intercept   : AIC=2429.884, Time=0.04 sec\n",
      " ARIMA(1,1,1)(0,0,0)[12] intercept   : AIC=2429.387, Time=0.04 sec\n",
      " ARIMA(0,1,1)(0,0,0)[12] intercept   : AIC=2429.902, Time=0.03 sec\n",
      " ARIMA(2,1,1)(0,0,0)[12] intercept   : AIC=2431.397, Time=0.11 sec\n",
      " ARIMA(1,1,0)(0,0,0)[12]             : AIC=2427.270, Time=0.03 sec\n",
      " ARIMA(1,1,0)(1,0,0)[12]             : AIC=2429.139, Time=0.05 sec\n",
      " ARIMA(1,1,0)(0,0,1)[12]             : AIC=2429.082, Time=0.04 sec\n",
      " ARIMA(1,1,0)(1,0,1)[12]             : AIC=inf, Time=0.18 sec\n",
      " ARIMA(2,1,0)(0,0,0)[12]             : AIC=2427.825, Time=0.03 sec\n",
      " ARIMA(1,1,1)(0,0,0)[12]             : AIC=2427.337, Time=0.03 sec\n",
      " ARIMA(0,1,1)(0,0,0)[12]             : AIC=2427.637, Time=0.02 sec\n",
      " ARIMA(2,1,1)(0,0,0)[12]             : AIC=inf, Time=0.08 sec\n",
      "\n",
      "Best model:  ARIMA(1,1,0)(0,0,0)[12]          \n",
      "Total fit time: 1.470 seconds\n"
     ]
    }
   ],
   "source": [
    "# Encontre os melhores parâmetros para o modelo ARIMA\n",
    "model_arima = auto_arima(exportacao_es, start_p=1, start_q=1, max_p=3, max_q=3, m=12, seasonal=True, \n",
    "                   trace=True, error_action='ignore', suppress_warnings=True, stepwise=True)\n",
    "\n"
   ]
  },
  {
   "cell_type": "code",
   "execution_count": 70,
   "id": "78cc6c75",
   "metadata": {},
   "outputs": [
    {
     "name": "stdout",
     "output_type": "stream",
     "text": [
      "                               SARIMAX Results                                \n",
      "==============================================================================\n",
      "Dep. Variable:                      y   No. Observations:                   58\n",
      "Model:               SARIMAX(1, 1, 0)   Log Likelihood               -1211.635\n",
      "Date:                Fri, 07 Apr 2023   AIC                           2427.270\n",
      "Time:                        21:55:13   BIC                           2431.357\n",
      "Sample:                    01-01-2018   HQIC                          2428.858\n",
      "                         - 10-01-2022                                         \n",
      "Covariance Type:                  opg                                         \n",
      "==============================================================================\n",
      "                 coef    std err          z      P>|z|      [0.025      0.975]\n",
      "------------------------------------------------------------------------------\n",
      "ar.L1         -0.5453      0.073     -7.419      0.000      -0.689      -0.401\n",
      "sigma2      1.542e+17   4.46e-20   3.46e+36      0.000    1.54e+17    1.54e+17\n",
      "===================================================================================\n",
      "Ljung-Box (L1) (Q):                   2.48   Jarque-Bera (JB):                 1.01\n",
      "Prob(Q):                              0.11   Prob(JB):                         0.60\n",
      "Heteroskedasticity (H):               1.25   Skew:                             0.20\n",
      "Prob(H) (two-sided):                  0.63   Kurtosis:                         2.49\n",
      "===================================================================================\n",
      "\n",
      "Warnings:\n",
      "[1] Covariance matrix calculated using the outer product of gradients (complex-step).\n",
      "[2] Covariance matrix is singular or near-singular, with condition number 2.57e+53. Standard errors may be unstable.\n"
     ]
    }
   ],
   "source": [
    "# Imprima os parâmetros do modelo ARIMA encontrado\n",
    "print(model_arima.summary())"
   ]
  },
  {
   "cell_type": "code",
   "execution_count": 71,
   "id": "26424f41",
   "metadata": {},
   "outputs": [
    {
     "name": "stdout",
     "output_type": "stream",
     "text": [
      "                               SARIMAX Results                                \n",
      "==============================================================================\n",
      "Dep. Variable:             KG_LIQUIDO   No. Observations:                   58\n",
      "Model:                 ARIMA(1, 1, 0)   Log Likelihood               -1211.635\n",
      "Date:                Fri, 07 Apr 2023   AIC                           2427.270\n",
      "Time:                        21:55:13   BIC                           2431.357\n",
      "Sample:                    01-01-2018   HQIC                          2428.858\n",
      "                         - 10-01-2022                                         \n",
      "Covariance Type:                  opg                                         \n",
      "==============================================================================\n",
      "                 coef    std err          z      P>|z|      [0.025      0.975]\n",
      "------------------------------------------------------------------------------\n",
      "ar.L1         -0.5453      0.073     -7.419      0.000      -0.689      -0.401\n",
      "sigma2      1.542e+17   4.46e-20   3.46e+36      0.000    1.54e+17    1.54e+17\n",
      "===================================================================================\n",
      "Ljung-Box (L1) (Q):                   2.48   Jarque-Bera (JB):                 1.01\n",
      "Prob(Q):                              0.11   Prob(JB):                         0.60\n",
      "Heteroskedasticity (H):               1.25   Skew:                             0.20\n",
      "Prob(H) (two-sided):                  0.63   Kurtosis:                         2.49\n",
      "===================================================================================\n",
      "\n",
      "Warnings:\n",
      "[1] Covariance matrix calculated using the outer product of gradients (complex-step).\n",
      "[2] Covariance matrix is singular or near-singular, with condition number 2.57e+53. Standard errors may be unstable.\n"
     ]
    },
    {
     "name": "stderr",
     "output_type": "stream",
     "text": [
      "C:\\Anaconda3\\lib\\site-packages\\statsmodels\\tsa\\base\\tsa_model.py:471: ValueWarning: No frequency information was provided, so inferred frequency MS will be used.\n",
      "  self._init_dates(dates, freq)\n",
      "C:\\Anaconda3\\lib\\site-packages\\statsmodels\\tsa\\base\\tsa_model.py:471: ValueWarning: No frequency information was provided, so inferred frequency MS will be used.\n",
      "  self._init_dates(dates, freq)\n",
      "C:\\Anaconda3\\lib\\site-packages\\statsmodels\\tsa\\base\\tsa_model.py:471: ValueWarning: No frequency information was provided, so inferred frequency MS will be used.\n",
      "  self._init_dates(dates, freq)\n"
     ]
    }
   ],
   "source": [
    "# Crie o modelo ARIMA com parâmetros p, d, e q\n",
    "model_arima = sm.tsa.ARIMA(exportacao_es, order=(1, 1, 0))\n",
    "\n",
    "# Ajuste o modelo aos dados\n",
    "results_arima = model_arima.fit()\n",
    "\n",
    "# Imprima um resumo dos resultados\n",
    "print(results_arima.summary())"
   ]
  },
  {
   "cell_type": "code",
   "execution_count": 72,
   "id": "a961061a",
   "metadata": {},
   "outputs": [
    {
     "data": {
      "image/png": "[encoded data removed]",
      "text/plain": [
       "<Figure size 432x288 with 2 Axes>"
      ]
     },
     "metadata": {
      "needs_background": "light"
     },
     "output_type": "display_data"
    }
   ],
   "source": [
    "residuals_arima = results_arima.resid[1:]\n",
    "fig, ax = plt.subplots(1,2)\n",
    "residuals_arima.plot(title='Residuals', ax=ax[0])\n",
    "residuals_arima.plot(title='Density', kind='kde', ax=ax[1])\n",
    "plt.show()"
   ]
  },
  {
   "cell_type": "code",
   "execution_count": 73,
   "id": "078bd8db",
   "metadata": {},
   "outputs": [
    {
     "name": "stderr",
     "output_type": "stream",
     "text": [
      "C:\\Anaconda3\\lib\\site-packages\\statsmodels\\graphics\\tsaplots.py:348: FutureWarning: The default method 'yw' can produce PACF values outside of the [-1,1] interval. After 0.13, the default will change tounadjusted Yule-Walker ('ywm'). You can use this method now by setting method='ywm'.\n",
      "  warnings.warn(\n"
     ]
    },
    {
     "data": {
      "image/png": "[encoded data removed]",
      "text/plain": [
       "<Figure size 432x288 with 1 Axes>"
      ]
     },
     "metadata": {
      "needs_background": "light"
     },
     "output_type": "display_data"
    },
    {
     "data": {
      "image/png": "[encoded data removed]",
      "text/plain": [
       "<Figure size 432x288 with 1 Axes>"
      ]
     },
     "metadata": {
      "needs_background": "light"
     },
     "output_type": "display_data"
    }
   ],
   "source": [
    "from statsmodels.graphics.tsaplots import plot_acf, plot_pacf\n",
    "\n",
    "acf_res = plot_acf(residuals_arima)\n",
    "\n",
    "pacf_res = plot_pacf(residuals_arima)"
   ]
  },
  {
   "cell_type": "code",
   "execution_count": 75,
   "id": "0c78d484",
   "metadata": {},
   "outputs": [
    {
     "data": {
      "image/png": "[encoded data removed]",
      "text/plain": [
       "<Figure size 432x288 with 1 Axes>"
      ]
     },
     "metadata": {
      "needs_background": "light"
     },
     "output_type": "display_data"
    }
   ],
   "source": [
    "# Faça previsões para os próximos 12 períodos\n",
    "forecast_arima = results_arima.predict(start=len(exportacao_es), end=len(exportacao_es)+11, dynamic=False)\n",
    "\n",
    "# Visualize as previsões\n",
    "plt.plot(exportacao_es)\n",
    "plt.plot(forecast_arima)\n",
    "plt.show()"
   ]
  },
  {
   "cell_type": "code",
   "execution_count": 76,
   "id": "233c5432",
   "metadata": {},
   "outputs": [
    {
     "name": "stdout",
     "output_type": "stream",
     "text": [
      "425523476.19877434\n"
     ]
    }
   ],
   "source": [
    "# Calculando o RMSE para o ARIMA\n",
    "rmse_arima = mean_squared_error(exportacao_es[-12:].values, forecast_arima, squared=False)\n",
    "\n",
    "\n",
    "print(rmse_arima)"
   ]
  },
  {
   "cell_type": "code",
   "execution_count": null,
   "id": "59ff2012",
   "metadata": {},
   "outputs": [],
   "source": []
  }
 ],
 "metadata": {
  "kernelspec": {
   "display_name": "Python 3 (ipykernel)",
   "language": "python",
   "name": "python3"
  },
  "language_info": {
   "codemirror_mode": {
    "name": "ipython",
    "version": 3
   },
   "file_extension": ".py",
   "mimetype": "text/x-python",
   "name": "python",
   "nbconvert_exporter": "python",
   "pygments_lexer": "ipython3",
   "version": "3.9.12"
  }
 },
 "nbformat": 4,
 "nbformat_minor": 5
}
